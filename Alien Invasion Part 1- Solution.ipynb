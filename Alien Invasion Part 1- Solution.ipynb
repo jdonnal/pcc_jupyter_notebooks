{
 "cells": [
  {
   "cell_type": "markdown",
   "id": "a27a3a83",
   "metadata": {},
   "source": [
    "<img src=\"https://www.usna.edu/WRC/_files/WRClogos/WRCE-logo-combined-01-crop.png\" width=\"200px\">\n",
    "\n",
    "# Alien Invasion (Chapter 12)\n",
    "\n",
    "Create a seperate file in your alien invasion game for each of the following questions. Paste the content of the file into a Jupyter Notebook cell along with a screen shot of the game (2 cells per answer)"
   ]
  },
  {
   "cell_type": "markdown",
   "id": "5dee5f06",
   "metadata": {},
   "source": [
    "**12-1. Blue Sky:** Make a Pygame window with a blue background"
   ]
  },
  {
   "cell_type": "code",
   "execution_count": 2,
   "id": "7d5bc785",
   "metadata": {},
   "outputs": [],
   "source": [
    "import pygame\n",
    "import time\n",
    "\n",
    "pygame.init()\n",
    "screen = pygame.display.set_mode((200, 200))\n",
    "screen.fill((0, 0, 255))\n",
    "pygame.display.flip()\n",
    "\n",
    "time.sleep(8)"
   ]
  },
  {
   "cell_type": "markdown",
   "id": "978fa980",
   "metadata": {},
   "source": [
    "![blue sky](pygame_screenshots/12_1.png)"
   ]
  },
  {
   "cell_type": "markdown",
   "id": "db53b5ed",
   "metadata": {},
   "source": [
    "---\n",
    "**12-2. Game Character:** Find a bitmap image of a game character you like or convert an image to a bitmap. Make a class that draws the character at the center of the screen and match the background color of the image to the background color of the screen or vice versa"
   ]
  },
  {
   "cell_type": "code",
   "execution_count": 2,
   "id": "fc148f30",
   "metadata": {},
   "outputs": [],
   "source": [
    "import pygame\n",
    "import time\n",
    "\n",
    "\n",
    "class Character:\n",
    "    def __init__(self, screen):\n",
    "        self.screen = screen\n",
    "        self.image = pygame.image.load('../images/ship_alt.png')\n",
    "        self.rect = self.image.get_rect()\n",
    "        # center the character\n",
    "        self.rect.center = self.screen.get_rect().center\n",
    "\n",
    "    def draw(self):\n",
    "        self.screen.blit(self.image, self.rect)\n",
    "\n",
    "\n",
    "pygame.init()\n",
    "screen = pygame.display.set_mode((200, 200))\n",
    "screen.fill((170, 240, 240))\n",
    "character = Character(screen)\n",
    "character.draw()\n",
    "\n",
    "pygame.display.flip()\n",
    "time.sleep(8)"
   ]
  },
  {
   "cell_type": "markdown",
   "id": "66080441",
   "metadata": {},
   "source": [
    "![game_character](pygame_screenshots/12_2.png)"
   ]
  },
  {
   "cell_type": "markdown",
   "id": "3a13ae4d",
   "metadata": {},
   "source": [
    "---\n",
    "**12-4. Rocket:** Make a game that begins with a rocket in the center of the screen. Allow the player to move the rocket up, down, left, or right using the four arrow keys. Make sure the rocket never moves beyond any edge of the screen."
   ]
  },
  {
   "cell_type": "code",
   "execution_count": 2,
   "id": "36da1ca2",
   "metadata": {},
   "outputs": [],
   "source": [
    "# game.py\n",
    "import pygame\n",
    "import rocket\n",
    "\n",
    "\n",
    "class Game:\n",
    "    def __init__(self):\n",
    "        pygame.init()\n",
    "        self.screen = pygame.display.set_mode((200, 200))\n",
    "        self.screen.fill((230, 230, 230))\n",
    "        self.rocket = rocket.Rocket(self.screen)\n",
    "\n",
    "    def run(self):\n",
    "        # ====== Main Loop ======\n",
    "        while True:\n",
    "            # ====== Event Handling ======\n",
    "            for event in pygame.event.get():\n",
    "                if event.type == pygame.QUIT:\n",
    "                    return\n",
    "                if event.type == pygame.KEYDOWN:\n",
    "                    if event.key == pygame.K_DOWN:\n",
    "                        self.rocket.moving_down = True\n",
    "                    if event.key == pygame.K_UP:\n",
    "                        self.rocket.moving_up = True\n",
    "                    if event.key == pygame.K_LEFT:\n",
    "                        self.rocket.moving_left = True\n",
    "                    if event.key == pygame.K_RIGHT:\n",
    "                        self.rocket.moving_right = True\n",
    "                if event.type == pygame.KEYUP:\n",
    "                    if event.key == pygame.K_DOWN:\n",
    "                        self.rocket.moving_down = False\n",
    "                    if event.key == pygame.K_UP:\n",
    "                        self.rocket.moving_up = False\n",
    "                    if event.key == pygame.K_LEFT:\n",
    "                        self.rocket.moving_left = False\n",
    "                    if event.key == pygame.K_RIGHT:\n",
    "                        self.rocket.moving_right = False\n",
    "            # ====== Update ======\n",
    "            self.rocket.update()\n",
    "\n",
    "            # ====== Draw ======\n",
    "            self.screen.fill((230, 230, 230))\n",
    "            self.rocket.draw()\n",
    "            pygame.display.flip()\n",
    "\n",
    "\n",
    "if __name__ == '__main__':\n",
    "    game = Game()\n",
    "    game.run()"
   ]
  },
  {
   "cell_type": "code",
   "execution_count": null,
   "id": "0715e27e",
   "metadata": {},
   "outputs": [],
   "source": [
    "# rocket.py\n",
    "import pygame\n",
    "\n",
    "\n",
    "class Rocket:\n",
    "    def __init__(self, screen):\n",
    "        self.screen = screen\n",
    "        self.moving_left = False\n",
    "        self.moving_right = False\n",
    "        self.moving_up = False\n",
    "        self.moving_down = False\n",
    "        self.image = pygame.image.load('ship.bmp')\n",
    "        self.rect = self.image.get_rect()\n",
    "        self.rect.center = self.screen.get_rect().center\n",
    "\n",
    "    def update(self):\n",
    "        if self.moving_left and self.rect.left > 0:\n",
    "            self.rect.x -= 1\n",
    "        if self.moving_right and self.rect.right < self.screen.get_rect().right:\n",
    "            self.rect.x += 1\n",
    "        if self.moving_up and self.rect.top > 0:\n",
    "            self.rect.y -= 1\n",
    "        if self.moving_down and self.rect.bottom < self.screen.get_rect().bottom:\n",
    "            self.rect.y += 1\n",
    "\n",
    "    def draw(self):\n",
    "        self.screen.blit(self.image, self.rect)"
   ]
  },
  {
   "cell_type": "markdown",
   "id": "bf01631b",
   "metadata": {},
   "source": [
    "![game_character](pygame_screenshots/12_4.png)"
   ]
  },
  {
   "cell_type": "markdown",
   "id": "64f301bb",
   "metadata": {},
   "source": [
    "----\n",
    "**12-5. Keys:** Make a Pygame file that creates an empty screen. In the event loop, print the `event.key` attribute whenever a `pygame.KEYDOWN` event is detected. Run the program and press various keys to see how Pygame responds. Your screen shot should be the text output from the Pycharm consolse (not the game screen)"
   ]
  },
  {
   "cell_type": "code",
   "execution_count": 2,
   "id": "96e4137b",
   "metadata": {},
   "outputs": [],
   "source": [
    "import pygame\n",
    "import sys\n",
    "\n",
    "pygame.init()\n",
    "screen = pygame.display.set_mode((200, 200))\n",
    "while True:\n",
    "    for event in pygame.event.get():\n",
    "        if event.type == pygame.QUIT:\n",
    "            sys.exit()  # quit the game\n",
    "        if event.type == pygame.KEYDOWN:\n",
    "            print(f\"event.key = {event.key}\")"
   ]
  },
  {
   "cell_type": "markdown",
   "id": "90cbe6c7",
   "metadata": {},
   "source": [
    "![game_character](pygame_screenshots/12_5.png)"
   ]
  },
  {
   "cell_type": "markdown",
   "id": "89f48e50",
   "metadata": {},
   "source": [
    "----\n",
    "**12-6. Sideways Shooter:** Write a game that places a ship on the left side of the screen and allows the player to move the ship up and down. Make the ship fire a bullet that travels right across the screen when the player presses the spacebar. Make sure the bullets are deleted once they disappear off the screen"
   ]
  },
  {
   "cell_type": "code",
   "execution_count": 2,
   "id": "03770250",
   "metadata": {},
   "outputs": [],
   "source": [
    "# game.py\n",
    "import pygame\n",
    "import rocket\n",
    "from bullet import Bullet\n",
    "\n",
    "\n",
    "class Game:\n",
    "    def __init__(self):\n",
    "        pygame.init()\n",
    "        self.screen = pygame.display.set_mode((200, 200))\n",
    "        self.screen.fill((230, 230, 230))\n",
    "        self.rocket = rocket.Rocket(self.screen)\n",
    "        self.bullets = pygame.sprite.Group()\n",
    "\n",
    "    def run(self):\n",
    "        # ====== Main Loop ======\n",
    "        while True:\n",
    "            # ====== Event Handling ======\n",
    "            for event in pygame.event.get():\n",
    "                if event.type == pygame.QUIT:\n",
    "                    return\n",
    "                if event.type == pygame.KEYDOWN:\n",
    "                    if event.key == pygame.K_DOWN:\n",
    "                        self.rocket.moving_down = True\n",
    "                    if event.key == pygame.K_UP:\n",
    "                        self.rocket.moving_up = True\n",
    "                    if event.key == pygame.K_SPACE:\n",
    "                        self._fire_bullet()\n",
    "                if event.type == pygame.KEYUP:\n",
    "                    if event.key == pygame.K_DOWN:\n",
    "                        self.rocket.moving_down = False\n",
    "                    if event.key == pygame.K_UP:\n",
    "                        self.rocket.moving_up = False\n",
    "\n",
    "            # ====== Update ======\n",
    "            self.rocket.update()\n",
    "            self.bullets.update()\n",
    "            for bullet in self.bullets.copy():\n",
    "                if bullet.rect.left > self.screen.get_rect().right:\n",
    "                    self.bullets.remove(bullet)\n",
    "\n",
    "            # ====== Draw ======\n",
    "            self.screen.fill((230, 230, 230))\n",
    "            self.rocket.draw()\n",
    "            for bullet in self.bullets:\n",
    "                bullet.draw()\n",
    "            pygame.display.flip()\n",
    "\n",
    "    def _fire_bullet(self):\n",
    "        if len(self.bullets) < 3:\n",
    "            new_bullet = Bullet(self.screen, self.rocket)\n",
    "            self.bullets.add(new_bullet)\n",
    "\n",
    "\n",
    "if __name__ == '__main__':\n",
    "    game = Game()\n",
    "    game.run()"
   ]
  },
  {
   "cell_type": "code",
   "execution_count": null,
   "id": "2b2a1162",
   "metadata": {},
   "outputs": [],
   "source": [
    "# rocket.py\n",
    "import pygame\n",
    "\n",
    "\n",
    "class Rocket:\n",
    "    def __init__(self, screen):\n",
    "        self.screen = screen\n",
    "        self.moving_up = False\n",
    "        self.moving_down = False\n",
    "        self.image = pygame.image.load('ship.bmp')\n",
    "        self.rect = self.image.get_rect()\n",
    "        self.rect.midleft = self.screen.get_rect().midleft\n",
    "\n",
    "    def update(self):\n",
    "        if self.moving_up and self.rect.top > 0:\n",
    "            self.rect.y -= 1\n",
    "        if self.moving_down and self.rect.bottom < self.screen.get_rect().bottom:\n",
    "            self.rect.y += 1\n",
    "\n",
    "    def draw(self):\n",
    "        self.screen.blit(self.image, self.rect)\n"
   ]
  },
  {
   "cell_type": "code",
   "execution_count": null,
   "id": "1429b976",
   "metadata": {},
   "outputs": [],
   "source": [
    "# ship.py\n",
    "import pygame\n",
    "from pygame.sprite import Sprite\n",
    "\n",
    "\n",
    "class Bullet(Sprite):\n",
    "    def __init__(self, screen, rocket):\n",
    "        super().__init__()\n",
    "        self.screen = screen\n",
    "        self.rect = pygame.Rect(0, 0, 15, 3)\n",
    "        # start the bullet at the tip of the rocket\n",
    "        self.rect.centery = rocket.rect.centery\n",
    "        self.rect.left = rocket.rect.right\n",
    "        self.x = float(self.rect.x)\n",
    "\n",
    "    def update(self):\n",
    "        self.x += 1\n",
    "        self.rect.x = self.x\n",
    "\n",
    "    def draw(self):\n",
    "        pygame.draw.rect(self.screen, (60, 60, 60), self.rect)\n"
   ]
  },
  {
   "cell_type": "markdown",
   "id": "23870754",
   "metadata": {},
   "source": [
    "![game_character](pygame_screenshots/12_6.png)"
   ]
  }
 ],
 "metadata": {
  "kernelspec": {
   "display_name": "Python 3 (ipykernel)",
   "language": "python",
   "name": "python3"
  },
  "language_info": {
   "codemirror_mode": {
    "name": "ipython",
    "version": 3
   },
   "file_extension": ".py",
   "mimetype": "text/x-python",
   "name": "python",
   "nbconvert_exporter": "python",
   "pygments_lexer": "ipython3",
   "version": "3.9.12"
  }
 },
 "nbformat": 4,
 "nbformat_minor": 5
}
