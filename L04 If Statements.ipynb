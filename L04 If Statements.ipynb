{
 "cells": [
  {
   "cell_type": "markdown",
   "id": "874397ba",
   "metadata": {},
   "source": [
    "<img src=\"https://www.usna.edu/WRC/_files/WRClogos/WRCE-logo-combined-01-crop.png\" width=\"200px\">\n",
    "\n",
    "# If Statements (Chapter 5)"
   ]
  },
  {
   "cell_type": "code",
   "execution_count": 5,
   "id": "aff89da4",
   "metadata": {},
   "outputs": [
    {
     "name": "stdout",
     "output_type": "stream",
     "text": [
      "This is printed!\n",
      "Warning, 2 person lift\n"
     ]
    }
   ],
   "source": [
    "# if statements control conditional code execution\n",
    "#    executes a block of code if the condition is True\n",
    "\n",
    "if True:\n",
    "    print(\"This is printed!\")\n",
    "    \n",
    "if False:\n",
    "    print(\"But not this\")\n",
    "    \n",
    "# rather than use True and False directly, we instead use conditional statements that evaluate\n",
    "# to either True or False\n",
    "\n",
    "weight = 80\n",
    "if weight > 50: # this is True\n",
    "    print(\"Warning, 2 person lift\")\n",
    "if weight > 1000: # this is False\n",
    "    print(\"Warning, machine lift only\")"
   ]
  },
  {
   "cell_type": "markdown",
   "id": "6cf05d60",
   "metadata": {},
   "source": [
    "### Conditional Tests\n",
    "Statements that evaluate to True or False, can be used with `if` statements to control code execution"
   ]
  },
  {
   "cell_type": "code",
   "execution_count": 3,
   "id": "5102edcd",
   "metadata": {},
   "outputs": [
    {
     "data": {
      "text/plain": [
       "True"
      ]
     },
     "execution_count": 3,
     "metadata": {},
     "output_type": "execute_result"
    }
   ],
   "source": [
    "# check for equality\n",
    "car = 'bmw' # assign the value 'bmw' to the variable car\n",
    "car == 'bmw' # conditional test -> is the value of car equal to 'bmw'?\n",
    "\n",
    "# check for inequality\n",
    "car = 'bmw' # assignment\n",
    "car != 'Audi' # conditional test -> is the value of car not equal to 'Audi'?\n",
    "\n",
    "# string comparison is case sensitive\n",
    "car == 'BMW' # False\n",
    "car.upper() == 'BMW' # True\n"
   ]
  },
  {
   "cell_type": "code",
   "execution_count": 6,
   "id": "537a2b41",
   "metadata": {},
   "outputs": [
    {
     "data": {
      "text/plain": [
       "True"
      ]
     },
     "execution_count": 6,
     "metadata": {},
     "output_type": "execute_result"
    }
   ],
   "source": [
    "# Numerical comparison\n",
    "\n",
    "x =  5 # assignment NOT A CONDITIONAL TEST!\n",
    "\n",
    "x >  4 # greater than\n",
    "x >= 4 # greater than or equal to\n",
    "x <  4 # less than\n",
    "x <= 4 # less than or equal to\n",
    "x == 4 # equality\n",
    "x != 4 # inequality\n"
   ]
  },
  {
   "cell_type": "code",
   "execution_count": 11,
   "id": "3c9f1d84",
   "metadata": {},
   "outputs": [
    {
     "data": {
      "text/plain": [
       "True"
      ]
     },
     "execution_count": 11,
     "metadata": {},
     "output_type": "execute_result"
    }
   ],
   "source": [
    "# Checking for value in a list\n",
    "\n",
    "toppings = ['pepperoni','mushrooms','olives']\n",
    "\n",
    "'sardines' in toppings # False\n",
    "\n",
    "'mushrooms' in toppings # True\n",
    "\n",
    "# Checking for value not in a list\n",
    "\n",
    "'sardines' not in toppings # True"
   ]
  },
  {
   "cell_type": "markdown",
   "id": "f3d22871",
   "metadata": {},
   "source": [
    "### If Statement"
   ]
  },
  {
   "cell_type": "code",
   "execution_count": null,
   "id": "e6f52bd3",
   "metadata": {},
   "outputs": [],
   "source": [
    "# TODO: write an if statement to conditional print a message for each of the test types above\n",
    "\n",
    "# Equality\n",
    "\n",
    "# Numerical Comparison\n",
    "\n",
    "# Membership in a List\n"
   ]
  },
  {
   "cell_type": "code",
   "execution_count": null,
   "id": "19252989",
   "metadata": {},
   "outputs": [],
   "source": [
    "# Checking multiple conditions\n",
    "\n",
    "# and requires both conditions to be True\n",
    "x = 5\n",
    "y = 6\n",
    "if x==5 and y==6:\n",
    "    print(\"both conditions must be True\")\n",
    "    \n",
    "# or requires only one condition to be True\n",
    "if x==5 or y==6:\n",
    "    print(\"either or both conditions are True\")\n",
    "    \n",
    "# can combine multiple conditions with parenthesis\n",
    "z = 10\n",
    "if (x==5 or y==6) and z == 10:\n",
    "    print(\"z condition is met and either x or y condition is met\")"
   ]
  },
  {
   "cell_type": "code",
   "execution_count": 17,
   "id": "570a0d76",
   "metadata": {},
   "outputs": [
    {
     "name": "stdout",
     "output_type": "stream",
     "text": [
      "x is big\n",
      "x is small\n",
      "x is small but x+y is big\n"
     ]
    }
   ],
   "source": [
    "# if-else statements\n",
    "# else means \"if not true\" or \"otherwise\"\n",
    "\n",
    "x=84\n",
    "if x>10:\n",
    "    print(\"x is big\")\n",
    "else:                    # NOTE: else has no conditional statement!\n",
    "    print(\"x is small\")\n",
    "    \n",
    "# if you need an additional conditional statement use an elif clause\n",
    "x=5\n",
    "if x>10:\n",
    "    print(\"x is big\")\n",
    "elif x>2:\n",
    "    print(\"x is small\")\n",
    "else:\n",
    "    print(\"x is tiny\")\n",
    "\n",
    "# elif clauses do not have to test the same variable\n",
    "y=6\n",
    "if x>10:\n",
    "    print(\"x is big\")\n",
    "elif x+y > 10:\n",
    "    print(\"x is small but x+y is big\")\n",
    "elif y>5:\n",
    "    print(\"change x and y so this line prints\") #TODO\n",
    "    \n",
    "# else is always optional"
   ]
  },
  {
   "cell_type": "code",
   "execution_count": 22,
   "id": "0c1b7b08",
   "metadata": {},
   "outputs": [
    {
     "name": "stdout",
     "output_type": "stream",
     "text": [
      "multiple if statements\n",
      "x > 4\n",
      "x > 3\n",
      "x > 2\n",
      "single if-elif chain\n",
      "x > 4\n"
     ]
    }
   ],
   "source": [
    "# multiple if statements versus if-elif chain\n",
    "x = 5\n",
    "\n",
    "print(\"multiple if statements\")\n",
    "if x>4:\n",
    "    print(\"x > 4\")\n",
    "if x>3:\n",
    "    print(\"x > 3\")\n",
    "if x>2:\n",
    "    print(\"x > 2\")\n",
    "    \n",
    "print(\"single if-elif chain\")\n",
    "if x>4:            #NOTE: place most restrictive clause first\n",
    "    print(\"x > 4\")\n",
    "elif x>3:\n",
    "    print(\"x > 3\")\n",
    "elif x>2:\n",
    "    print(\"x > 2\")\n",
    "    "
   ]
  },
  {
   "cell_type": "markdown",
   "id": "81424821",
   "metadata": {},
   "source": [
    "### `if` statements with lists"
   ]
  },
  {
   "cell_type": "code",
   "execution_count": 27,
   "id": "d17e9aba",
   "metadata": {},
   "outputs": [
    {
     "name": "stdout",
     "output_type": "stream",
     "text": [
      "b is not a vowel\n",
      "It looks like you don't like veggies\n"
     ]
    }
   ],
   "source": [
    "# use the in operator to check for membership in a list\n",
    "vowels = ['a','e','i','o','u']\n",
    "\n",
    "letter = 'b'\n",
    "if letter in vowels:\n",
    "    print(f\"{letter} is a vowel\")\n",
    "\n",
    "if letter not in vowels:\n",
    "    print(f\"{letter} is not a vowel\")\n",
    "    \n",
    "\n",
    "# empty lists are False\n",
    "favorite_veggies = []\n",
    "if favorite_veggies:\n",
    "    for veggie in favorite_veggies:\n",
    "        print(veggie)\n",
    "else:\n",
    "    print(\"It looks like you don't like veggies\")"
   ]
  },
  {
   "cell_type": "code",
   "execution_count": null,
   "id": "4fdd4c3c",
   "metadata": {},
   "outputs": [],
   "source": [
    "# a more complicated example using multiple lists\n",
    "available_toppings = ['mushrooms','olives','green peppers','pepperoni','pineapple','extra cheese']\n",
    "requested_toppings = ['mushrooms','french fries', 'extra cheese']\n",
    "\n",
    "# TODO: For each requsted topping either print \"adding {topping}\" or \"we don't have {topping}\"\n",
    "# if the requested topping is not the available_toppings list\n"
   ]
  },
  {
   "cell_type": "markdown",
   "id": "45eeba46",
   "metadata": {},
   "source": [
    "------\n",
    "### Helpful Hints"
   ]
  },
  {
   "cell_type": "code",
   "execution_count": 29,
   "id": "9488e4f2",
   "metadata": {},
   "outputs": [
    {
     "name": "stdout",
     "output_type": "stream",
     "text": [
      "x is between 2 and 10\n",
      "same test\n",
      "There is a p in the secret word\n"
     ]
    }
   ],
   "source": [
    "# shortcut for testing numerical value within a range:\n",
    "x=6\n",
    "if 2<x<10:\n",
    "    print(\"x is between 2 and 10\")\n",
    "# this is the same as\n",
    "if 2<x and x<10:\n",
    "    print(\"same test\")\n",
    "\n",
    "# you can use the in operator with strings\n",
    "secret_word = \"python\"\n",
    "guess = \"p\"\n",
    "if guess in secret_word:\n",
    "    print(f\"There is a {guess} in the secret word\")"
   ]
  },
  {
   "cell_type": "markdown",
   "id": "33890f03",
   "metadata": {},
   "source": [
    "-----\n",
    "\n",
    "## Homework Problems"
   ]
  },
  {
   "cell_type": "markdown",
   "id": "39bb9d84",
   "metadata": {},
   "source": [
    "**5-1. Conditional Tests:** Write **ten** conditional tests, half (5) should evaluate to `True` and the other half should evaluate to `False`. Print a statement describing each test and your prediction for the results of each test. Your code should look something like this:\n",
    "\n",
    "      car = 'subaru'\n",
    "      print(\"Is car =='subaru'? I predict True.\")\n",
    "      print(car == 'subaru')\n",
    "      \n",
    "      print(\"\\nIs car =='audi'? I predict False.\")\n",
    "      print(car == 'audi')"
   ]
  },
  {
   "cell_type": "code",
   "execution_count": null,
   "id": "f43bf150",
   "metadata": {},
   "outputs": [],
   "source": []
  },
  {
   "cell_type": "markdown",
   "id": "751c0d62",
   "metadata": {},
   "source": [
    "**5-2. More Conditional Tests:** Write at least one test for each of the following conditions:\n",
    "* Tests for equality and inequality with strings\n",
    "* Tests using the `lower()` method\n",
    "* Numerical test involving equality, greater than, less than, etc.\n",
    "* Tests using the `and` keyword and the `or` keyword (use both in the same statement)\n",
    "* Test whether an item is in a list\n",
    "* Test whether an item is not in a list"
   ]
  },
  {
   "cell_type": "code",
   "execution_count": null,
   "id": "41d9419f",
   "metadata": {},
   "outputs": [],
   "source": []
  },
  {
   "cell_type": "markdown",
   "id": "1846b8be",
   "metadata": {},
   "source": [
    "**5-3. Alien Colors #1:** Imagine an alient was just shot down in a game. Create a variable called `alien_color` and assign it a value of `'green'`, `'yellow'`, or `'red'`.\n",
    "  * Write an `if` statement to test whether the alient's color is green. If it is, print a message that the player just earned 5 points.\n",
    "  * Change the value of `alien_color` so the `if` test fails. (The version that fails will have no output)"
   ]
  },
  {
   "cell_type": "code",
   "execution_count": null,
   "id": "7f2032e7",
   "metadata": {},
   "outputs": [],
   "source": []
  },
  {
   "cell_type": "markdown",
   "id": "95331141",
   "metadata": {},
   "source": [
    "**5-4. Alien Colors #2:** Set `alien_color` a value of your choice, then write an `if-else` chain as follows:\n",
    "  * If the alien's color is green, print a statement that the player just earned 5 points for shooting the alien.\n",
    "  * If the alien's color isn't green, print a statement that the player just earned 10 points.\n",
    "  * Change the value of `alien_color` and make sure you understand the output."
   ]
  },
  {
   "cell_type": "code",
   "execution_count": null,
   "id": "bab260ee",
   "metadata": {},
   "outputs": [],
   "source": []
  },
  {
   "cell_type": "markdown",
   "id": "69b14c75",
   "metadata": {},
   "source": [
    "**5-5. Alien Colors #3:** Turn the `if-else` chain above into an `if-elif-else` chain as follows:\n",
    " * If the alien is green, print a message that the player earned 5 points.\n",
    " * If the alien is yellow, print a message that the player earned 10 points.\n",
    " * If the alien is red, print a message that the player earned 15 points.\n",
    " * Change the value of `alien_color` and run the code multiple times. Make sure you understand the output"
   ]
  },
  {
   "cell_type": "code",
   "execution_count": null,
   "id": "9ef89aef",
   "metadata": {},
   "outputs": [],
   "source": []
  },
  {
   "cell_type": "markdown",
   "id": "43b86598",
   "metadata": {},
   "source": [
    "**5-6. States of Life:** Write an `if-elif-else` chain that determines a person's stage of life. Set a value for the variable `age`, and then:\n",
    " * If the person is less than 2 years old, print a message the the person is a baby.\n",
    " * If the person is at least 2 years old but less than 4, print a message that the person is a toddler.\n",
    " * If the person is at least 4 years old but less than 13, pint a message that the person is a kid.\n",
    " * If the person is at least 13 years old but less than 20, print a message that the person is a teenager.\n",
    " * If the person is at least 20 years old but less than 65, print a message that the person is an adult.\n",
    " * If the person is age 65 or older, print a message that the person is an elder."
   ]
  },
  {
   "cell_type": "code",
   "execution_count": null,
   "id": "ee541832",
   "metadata": {},
   "outputs": [],
   "source": []
  },
  {
   "cell_type": "markdown",
   "id": "2ac29f65",
   "metadata": {},
   "source": [
    "**5-7. Favorite Fruit:** Make a list of your favorite fruits (at least 4 items). Then write at least three independent `if` statements that check for certain fruits in your list. If the fruit is in your list, the `if` block should print a statement, such as *You really like bananas!*"
   ]
  },
  {
   "cell_type": "code",
   "execution_count": null,
   "id": "09a9b71f",
   "metadata": {},
   "outputs": [],
   "source": []
  },
  {
   "cell_type": "markdown",
   "id": "c5c08f89",
   "metadata": {},
   "source": [
    "**5-8. Hello Admin:** Make a list of five usernames, including the name `'admin'`. Imagine you are writing code that will print a greeting to each user after they log in to a websie. Loop through the list, and print a greeting to each user:\n",
    " * If the username is `'admin'`, print a speacial greeting, such as *Hello admin, would you like to see a status report?*\n",
    " * Otherwise, print a generic greeting, such as *Hello Jaden, thank you for logging in again.*\n",
    " "
   ]
  },
  {
   "cell_type": "code",
   "execution_count": null,
   "id": "4b90e80e",
   "metadata": {},
   "outputs": [],
   "source": []
  },
  {
   "cell_type": "markdown",
   "id": "2553b4ae",
   "metadata": {},
   "source": [
    "**5-9. No Users:** Copy the code above and add an `if` test to make sure the list of users is not empty. \n",
    "* If the list is empty, print the message *We need to find some users!*\n",
    "* Remove all of the usernames from your list, and make sure the correct message is printed\n"
   ]
  },
  {
   "cell_type": "code",
   "execution_count": null,
   "id": "d2f11d5c",
   "metadata": {},
   "outputs": [],
   "source": []
  },
  {
   "cell_type": "markdown",
   "id": "0de9d591",
   "metadata": {},
   "source": [
    "**5-10. Checking Usernames:** Do the following to create a program that simulates how websites ensure that everyone has a unique username.\n",
    "* Make a list of five or more usernames called `current_users`.\n",
    "* Make another list of five usernames called `new_users`. Make sure one or two of the new usernames are also in the `current_users` list.\n",
    "* Loop through the `new_users` list to see if each new username has already been used. If it has, print a message that the person will need to enter a new username. If a username has not been used, print a message saying that the username is available.\n",
    "* Make sure your comparison is case insensitve. If `'John'` has been used, `'JOHN'` should not be accepted."
   ]
  },
  {
   "cell_type": "code",
   "execution_count": null,
   "id": "0313367e",
   "metadata": {},
   "outputs": [],
   "source": []
  },
  {
   "cell_type": "markdown",
   "id": "efaebaf3",
   "metadata": {},
   "source": [
    "**5-11. Ordinal Numbers:** Ordinal numbers indicate their position in a list, such as *1st* or *2nd*. Most ordinal numbers end in *th*, except 1, 2, and 3.\n",
    "* Store the numbers 1 through 9 in a list.\n",
    "* Loop through the list.\n",
    "* Use an `if-elif-else` chain inside the loop to print the proper ordinal ending for each number. Your output should read \"1st 2nd 3rd 4th 5th 6th 7th 8th 9th\", and each result should be on a separate line."
   ]
  },
  {
   "cell_type": "code",
   "execution_count": null,
   "id": "e163d2e0",
   "metadata": {},
   "outputs": [],
   "source": []
  },
  {
   "cell_type": "markdown",
   "id": "abd65ee6",
   "metadata": {},
   "source": [
    "**5-12: Styling `if` statements:** Review your code above and make sure you styled your conditional tests appropriately\n",
    "\n",
    "**5-13: Your ideas:** Write down at least three ideas for programs you would like to write (games, websites, applications, etc)."
   ]
  },
  {
   "cell_type": "raw",
   "id": "cb37519d",
   "metadata": {},
   "source": []
  }
 ],
 "metadata": {
  "kernelspec": {
   "display_name": "Python 3 (ipykernel)",
   "language": "python",
   "name": "python3"
  },
  "language_info": {
   "codemirror_mode": {
    "name": "ipython",
    "version": 3
   },
   "file_extension": ".py",
   "mimetype": "text/x-python",
   "name": "python",
   "nbconvert_exporter": "python",
   "pygments_lexer": "ipython3",
   "version": "3.7.9"
  }
 },
 "nbformat": 4,
 "nbformat_minor": 5
}
