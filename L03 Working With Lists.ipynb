{
 "cells": [
  {
   "cell_type": "markdown",
   "id": "327c3ea5",
   "metadata": {},
   "source": [
    "<img src=\"https://www.usna.edu/WRC/_files/WRClogos/WRCE-logo-combined-01-crop.png\" width=\"200px\">\n",
    "\n",
    "# Working With Lists (Chapter 4)"
   ]
  },
  {
   "cell_type": "code",
   "execution_count": null,
   "id": "4cbf6b21",
   "metadata": {},
   "outputs": [],
   "source": [
    "# Looping through an entire list\n",
    "fruits=['apple','banana','pear']\n",
    "for fruit in fruits:\n",
    "    print(fruit)\n",
    "    \n",
    "# the loop variable does not have to be related to the list name\n",
    "for x in fruits:\n",
    "    print(x) # but this isn't very easy to read\n",
    "    \n",
    "# TODO Print a list of your favorite songs"
   ]
  },
  {
   "cell_type": "code",
   "execution_count": null,
   "id": "bcfac9c8",
   "metadata": {},
   "outputs": [],
   "source": [
    "# you can put as much code as you want in a loop\n",
    "fruits=['apple','banana','pear']\n",
    "for fruit in fruits:\n",
    "    print(f\"That looks like one tasty {fruit}!\")\n",
    "    print(\"\\tmunch, munch, munch\") # an extra blank line\n",
    "    \n",
    "# TODO write your own multi-line for loop using your song list\n",
    "    "
   ]
  },
  {
   "cell_type": "code",
   "execution_count": null,
   "id": "3fef1a13",
   "metadata": {},
   "outputs": [],
   "source": [
    "# do add code after the loop, simply do not indent it\n",
    "fruits=['apple','banana','pear']\n",
    "for fruit in fruits:\n",
    "    print(f\"That looks like one tasty {fruit}!\")\n",
    "    print(\"\\tmunch, munch, munch\")\n",
    "print(\"Now I'm full!\") # only runs once"
   ]
  },
  {
   "cell_type": "code",
   "execution_count": null,
   "id": "bea33be2",
   "metadata": {},
   "outputs": [],
   "source": [
    "# Be careful with your identation!\n",
    "# TODO fix each of the indentation errors below\n",
    "\n",
    "for fruit in fruits:\n",
    "print(fruit)\n",
    "\n",
    "    print(\"I like fruit!\")\n",
    "    "
   ]
  },
  {
   "cell_type": "markdown",
   "id": "c814b0da",
   "metadata": {},
   "source": [
    "### Making Numerical Lists"
   ]
  },
  {
   "cell_type": "code",
   "execution_count": null,
   "id": "e47ed1e9",
   "metadata": {},
   "outputs": [],
   "source": [
    "# the range() function generates a list of numbers\n",
    "for value in range(5):\n",
    "    print(value) # 0..4, DOES NOT INCLUDE 5!\n",
    "\n",
    "print(\"\\n\")\n",
    "\n",
    "# you can specify the start and end points\n",
    "for value in range(2,10):\n",
    "    print(value)\n",
    "    \n",
    "print(\"\\n\")\n",
    "\n",
    "# you can also specify the step size\n",
    "for value in range(2,10,2):\n",
    "    print(value)\n",
    "\n",
    "# TODO\n",
    "# print a countdown from 10 to 0 and then print \"Blast off!\"\n",
    "# count to 100 by 10's"
   ]
  },
  {
   "cell_type": "markdown",
   "id": "436027c9",
   "metadata": {},
   "source": [
    "``range()`` is a generator, you can use the ``list()`` function to convert it into a typical list variable"
   ]
  },
  {
   "cell_type": "code",
   "execution_count": null,
   "id": "81450247",
   "metadata": {},
   "outputs": [],
   "source": [
    "values = range(10)\n",
    "print(values) # probably not what you want\n",
    "\n",
    "values = list(range(10)) # convert range output into a list\n",
    "print(values)"
   ]
  },
  {
   "cell_type": "code",
   "execution_count": null,
   "id": "fba3177f",
   "metadata": {},
   "outputs": [],
   "source": [
    "# built-in functions provide basic statistics for numeric lists\n",
    "values = [-100,10,4,56,-10]\n",
    "\n",
    "print(min(values))\n",
    "\n",
    "print(max(values))\n",
    "\n",
    "print(sum(values))\n",
    "\n",
    "## TODO compute the sum of the squares from 1-10 (1+4+9+...+100)"
   ]
  },
  {
   "cell_type": "code",
   "execution_count": null,
   "id": "04bb0aa1",
   "metadata": {},
   "outputs": [],
   "source": [
    "# list comprehensions can simplify your code\n",
    "positive_values = [abs(x) for x in [-10,-4,5,8,-6]]\n",
    "print(positive_values)\n",
    "\n",
    "# TODO write a list comprehension to cmopute the sum of the squares from 1-10"
   ]
  },
  {
   "cell_type": "markdown",
   "id": "377cbd5f",
   "metadata": {},
   "source": [
    "### Working with part of a list"
   ]
  },
  {
   "cell_type": "code",
   "execution_count": null,
   "id": "29975727",
   "metadata": {},
   "outputs": [],
   "source": [
    "# slicing a list\n",
    "students = [\"alice\",\"bob\",\"charlie\",\"dan\",\"edward\",\"frank\"]\n",
    "print(students[1:3]) # does not include 3 (like range)\n",
    "\n",
    "print(students[3:5]) # does include 3 (again, just like range)\n",
    "\n",
    "# start at the begining\n",
    "print(students[:4])\n",
    "\n",
    "# go to the end\n",
    "print(students[3:])\n",
    "\n",
    "# count back from the end\n",
    "print(students[-2:])"
   ]
  },
  {
   "cell_type": "code",
   "execution_count": null,
   "id": "ce4bcb28",
   "metadata": {},
   "outputs": [],
   "source": [
    "# loops work on slices too\n",
    "students = [\"alice\",\"bob\",\"charlie\",\"dan\",\"edward\",\"frank\"]\n",
    "\n",
    "print(\"The first students are:\")\n",
    "for student in students[:3]:\n",
    "    print(f\"\\t{student}\")\n",
    "print(\"The last students are:\")\n",
    "for student in students[3:]:\n",
    "    print(f\"\\t{student}\")"
   ]
  },
  {
   "cell_type": "markdown",
   "id": "eda11cb5",
   "metadata": {},
   "source": [
    "### Copying lists  \n",
    "Be careful! Making a copy is not as simple as setting a new variable equal to the old variable"
   ]
  },
  {
   "cell_type": "code",
   "execution_count": null,
   "id": "6625a081",
   "metadata": {},
   "outputs": [],
   "source": [
    "# to copy a list make a slice that includes everything\n",
    "fruits=['apple','banana','pear']\n",
    "\n",
    "fruit_copy = fruits[:]\n",
    "fruit_copy.append(\"strawberry\")\n",
    "print(f\"Fruits: {fruits}\")\n",
    "print(f\"Copy of Fruits: {fruit_copy}\")\n",
    "\n",
    "print(\"\\n\")\n",
    "\n",
    "# THIS DOES NOT WORK\n",
    "bad_copy = fruits\n",
    "bad_copy.append(\"watermelon\")\n",
    "print(f\"Fruits: {fruits} ????\")\n",
    "print(f\"Copy of Fruits: {bad_copy}\")\n",
    "\n",
    "# Helpful Hint: Think of variables as \"labels\" not \"storage boxes\""
   ]
  },
  {
   "cell_type": "markdown",
   "id": "bfaba74c",
   "metadata": {},
   "source": [
    "### Using `range()` as an index variable\n",
    "Sometimes you want to work with multpile lists at the same time or only certain items in a list. The `range()` function can be useful in both situations."
   ]
  },
  {
   "cell_type": "code",
   "execution_count": 4,
   "id": "2e758948",
   "metadata": {},
   "outputs": [
    {
     "name": "stdout",
     "output_type": "stream",
     "text": [
      "alice likes apples\n",
      "bob likes bananas\n",
      "charlie likes celery\n",
      "dan likes danishes\n",
      "edward likes eggplant\n",
      "frank likes frozen yogurt\n",
      "\n",
      "\n",
      "a selection of foods:\n",
      "bananas\n",
      "danishes\n",
      "frozen yogurt\n"
     ]
    }
   ],
   "source": [
    "students = [\"alice\",\"bob\",\"charlie\",\"dan\",\"edward\",\"frank\"]\n",
    "foods =    [\"apples\",\"bananas\",\"celery\",\"danishes\",\"eggplant\",\"frozen yogurt\"]\n",
    "\n",
    "for i in range(6):\n",
    "    print(f\"{students[i]} likes {foods[i]}\")\n",
    "\n",
    "print(\"\\n\")\n",
    "\n",
    "print(\"a selection of foods:\")\n",
    "for i in range(1,6,2):\n",
    "    print(foods[i])"
   ]
  },
  {
   "cell_type": "markdown",
   "id": "9f554e24",
   "metadata": {},
   "source": [
    "### Tuples\n",
    "Tuples are like lists but they cannot change. You can think of a tuple as a simpler version of a list. Use them when you need constant values."
   ]
  },
  {
   "cell_type": "code",
   "execution_count": null,
   "id": "47edf065",
   "metadata": {},
   "outputs": [],
   "source": [
    "fruit_list = ['apple','banana','pear']\n",
    "fruit_tuple =  ('apple','banana','pear')\n",
    "\n",
    "# Indexing works the same for lists and tuples\n",
    "print(f\"I want an {fruit_list[0]}\")\n",
    "print(f\"I want an {fruit_tuple[0]}\")\n",
    "\n",
    "# loops and slices work the same for lists and tuples\n",
    "for fruit in fruit_list[1:]:\n",
    "    print(fruit)\n",
    "for fruit in fruit_tuple[1:]:\n",
    "    print(fruit)\n",
    "\n",
    "# But you cannot change a tuple\n",
    "fruit_list.append('cherry') # ok\n",
    "fruit_tuple.append('cherry') # error!"
   ]
  },
  {
   "cell_type": "markdown",
   "id": "65c32536",
   "metadata": {},
   "source": [
    "-----\n",
    "\n",
    "## Homework Problems"
   ]
  },
  {
   "cell_type": "markdown",
   "id": "e942f3b0",
   "metadata": {},
   "source": [
    "**4-1. Pizzas:** Think of at least three kinds of your favorite pizza. Store these pizza names in a list, and then use a ``for``loop to print the name of each pizza.\n",
    "  * Modify your ``for`` loop to print a sentence using the name of the pizza instead of printing just the name of the pizza. For each pizza you should have one line of output containing a simple statement like *I like pepperoni pizza*.\n",
    "  * Add a line at the end of your program, outside the ``for`` loop, that states how much you like pizza. The output should consist of three or more lines about the kinds of pizza you like and then an additional sentence, such as *I really love pizza!*"
   ]
  },
  {
   "cell_type": "code",
   "execution_count": null,
   "id": "2e2ecb93",
   "metadata": {},
   "outputs": [],
   "source": []
  },
  {
   "cell_type": "markdown",
   "id": "a7de97af",
   "metadata": {},
   "source": [
    "**4-2. Animals:** Think of at least three different animals that have a common characteristic. Store the names of these animals in a list, and then use a ``for``loop to print out the name of each animal.\n",
    "  * Modify your program to print a statement about each animal, such as *A dog would make a great pet.*\n",
    "  * Add a line at the end of your program stating what these animals have in common. You could print a sentence such as *Any of these animals would make a great pet!*"
   ]
  },
  {
   "cell_type": "code",
   "execution_count": null,
   "id": "7b8de14c",
   "metadata": {},
   "outputs": [],
   "source": []
  },
  {
   "cell_type": "markdown",
   "id": "c25b04f0",
   "metadata": {},
   "source": [
    "**4-3 Counting to Twenty:** Use a ``for`` loop to print the numbers from 1 to 20, inclusive  "
   ]
  },
  {
   "cell_type": "code",
   "execution_count": null,
   "id": "02549419",
   "metadata": {},
   "outputs": [],
   "source": []
  },
  {
   "cell_type": "markdown",
   "id": "0d0c311f",
   "metadata": {},
   "source": [
    "**4-4. One Hundred:** Make a list of the numbers from one to one hundred, and then use a `for` loop to print the numbers"
   ]
  },
  {
   "cell_type": "code",
   "execution_count": null,
   "id": "5fcafd80",
   "metadata": {},
   "outputs": [],
   "source": []
  },
  {
   "cell_type": "markdown",
   "id": "7efee025",
   "metadata": {},
   "source": [
    "**4-5. Summing a Million:** Make a list of the numbers from one to one million, and then use ``min()`` and ``max()`` to make sure your list actually starts at one and ends at one million. Also use the ``sum()`` function to see how quickly Python can add numbers. "
   ]
  },
  {
   "cell_type": "code",
   "execution_count": null,
   "id": "75ec5bcd",
   "metadata": {},
   "outputs": [],
   "source": []
  },
  {
   "cell_type": "markdown",
   "id": "6c386c85",
   "metadata": {},
   "source": [
    "**4-6. Odd Numbers**: Use the third argument of the ``range()`` function to make a list of the odd numbers from 10 to 20. Use a ``for`` loop to print each number."
   ]
  },
  {
   "cell_type": "code",
   "execution_count": null,
   "id": "116af19c",
   "metadata": {},
   "outputs": [],
   "source": []
  },
  {
   "cell_type": "markdown",
   "id": "665cbebb",
   "metadata": {},
   "source": [
    "**4-7. Threes:** Make a list of the multiples of 3 from 3 to 30. Use a ``for`` loop to print the numbers in your list. "
   ]
  },
  {
   "cell_type": "code",
   "execution_count": null,
   "id": "a41cabd6",
   "metadata": {},
   "outputs": [],
   "source": []
  },
  {
   "cell_type": "markdown",
   "id": "d14b7b1d",
   "metadata": {},
   "source": [
    "**4-8. Cubes:** A number raised to the third power is called a *cube*. For example, the cube of 2 is written as 2\\*\\*3 in Python. Make a list of the first 10 cubes (that is, the cube of each integer from 1 through 10), and use a `for` loop to print out the value of each cube."
   ]
  },
  {
   "cell_type": "code",
   "execution_count": null,
   "id": "72354d65",
   "metadata": {},
   "outputs": [],
   "source": []
  },
  {
   "cell_type": "markdown",
   "id": "6a7a5794",
   "metadata": {},
   "source": [
    "**4-9. Cube Comprehension:** Use a list comprehension to generate a list of the first 10 cubes."
   ]
  },
  {
   "cell_type": "code",
   "execution_count": null,
   "id": "a793f8b8",
   "metadata": {},
   "outputs": [],
   "source": []
  },
  {
   "cell_type": "markdown",
   "id": "ab35b247",
   "metadata": {},
   "source": [
    "**4-10: Slices:** Using one of the programs you wrote above, add several lines to the end of the program that do the following:\n",
    " * Print the message *The first three items in the list are:*. Then use a slice to print the first three items from that programs's list\n",
    " * Print the message *Three items from the middle of the list are:*. Use a slice to print three items from the middle of the list.\n",
    " * Print the message *The last three items in the list are:*. Use a slice to print the last three items in the list"
   ]
  },
  {
   "cell_type": "code",
   "execution_count": null,
   "id": "d144ab70",
   "metadata": {},
   "outputs": [],
   "source": []
  },
  {
   "cell_type": "markdown",
   "id": "cb79b2a4",
   "metadata": {},
   "source": [
    "**4-11. My Pizzas, Your Pizzas:** Start with your program from **4-1**. Make a copy o fthe list of pizzas, and call it `friend_pizzas`. Then, do the following:\n",
    " * Add a new pizza to the original list.\n",
    " * Add a different pizza to the list `friend_pizzas`.\n",
    " * Prove that you have two separate lists. Print the message *My favorite pizzas are:*, and then use a `for` loop to print the first list. Print the message *My friend's favorite pizzas are:*, and then use a `for` loop to print the second list. Make sure each new pizza is stored in the appropriate list."
   ]
  },
  {
   "cell_type": "code",
   "execution_count": null,
   "id": "d8eac079",
   "metadata": {},
   "outputs": [],
   "source": []
  },
  {
   "cell_type": "markdown",
   "id": "fceb6904",
   "metadata": {},
   "source": [
    "**4-12. Index Variables:** Make a list of your favorite 5 vacation destinations from highest to lowest. Make another list of how much each vacaction would cost.\n",
    " * Use the range function to index through your list from least favorite to most favorite destination.\n",
    " * Use the reverse function to print the same information\n",
    " * Use the range function to index through both lists to print the cost of each vacation option."
   ]
  },
  {
   "cell_type": "code",
   "execution_count": null,
   "id": "b2f6c560",
   "metadata": {},
   "outputs": [],
   "source": []
  },
  {
   "cell_type": "markdown",
   "id": "b186ef97",
   "metadata": {},
   "source": [
    "**4-13: Buffet:** A buffet-style restaurant offers only five basic foods. Think of five simple foods and store them in a tuple. \n",
    " * Use a `for` loop to print each food the restaurant offers\n",
    " * The restaurant changes its menu, replacing two of the items with different foods. Add a line that rewrites the tuple, and then use a `for` loop to print each of the items on the revised menu.\n",
    " * Try to modify one of the items without re-writing the tuple, and make sure that Python rejects the change\n"
   ]
  },
  {
   "cell_type": "code",
   "execution_count": null,
   "id": "29bd7e12",
   "metadata": {},
   "outputs": [],
   "source": []
  },
  {
   "cell_type": "markdown",
   "id": "3642eaf5",
   "metadata": {},
   "source": [
    "**4-14. PEP 8:** Look through the original PEP 8 style guide at [https://python.org/dev/peps/pep-0003/]. You won't use much of it now, but it might be interesting to skim through it."
   ]
  }
 ],
 "metadata": {
  "kernelspec": {
   "display_name": "Python 3 (ipykernel)",
   "language": "python",
   "name": "python3"
  },
  "language_info": {
   "codemirror_mode": {
    "name": "ipython",
    "version": 3
   },
   "file_extension": ".py",
   "mimetype": "text/x-python",
   "name": "python",
   "nbconvert_exporter": "python",
   "pygments_lexer": "ipython3",
   "version": "3.11.4"
  }
 },
 "nbformat": 4,
 "nbformat_minor": 5
}
