{
 "cells": [
  {
   "cell_type": "markdown",
   "id": "a27a3a83",
   "metadata": {},
   "source": [
    "<img src=\"https://www.usna.edu/WRC/_files/WRClogos/WRCE-logo-combined-01-crop.png\" width=\"200px\">\n",
    "\n",
    "# Alien Invasion (Chapter 13)\n",
    "\n",
    "Create a seperate file in your alien invasion game for each of the following questions. Paste the content of the file into a Jupyter Notebook cell along with a screen shot of the game (2 cells per answer)"
   ]
  },
  {
   "cell_type": "markdown",
   "id": "5dee5f06",
   "metadata": {},
   "source": [
    "**13-1. Stars:** Find an image of a star. Make a grid of stars appear on the screen."
   ]
  },
  {
   "cell_type": "code",
   "execution_count": 2,
   "id": "7d5bc785",
   "metadata": {},
   "outputs": [],
   "source": [
    "import pygame\n",
    "import sys\n",
    "\n",
    "WIDTH = 400\n",
    "HEIGHT = 400\n",
    "\n",
    "screen = pygame.display.set_mode((WIDTH, HEIGHT))\n",
    "screen.fill((0, 0, 0,))\n",
    "\n",
    "star = pygame.image.load('star.png')\n",
    "\n",
    "star_width = star.get_width()\n",
    "available_space_x = WIDTH - (2 * star_width)\n",
    "number_stars_x = available_space_x // (2 * star_width)\n",
    "\n",
    "star_height = star.get_height()\n",
    "available_space_y = HEIGHT - (2 * star_height)\n",
    "number_stars_y = available_space_y // (2 * star_height)\n",
    "\n",
    "for i in range(number_stars_x):\n",
    "    for j in range(number_stars_y):\n",
    "        screen.blit(star, (star_width + 2 * star_width * i,\n",
    "                           star_height + 2 * star_height * j))\n",
    "\n",
    "pygame.display.flip()\n",
    "\n",
    "while True:\n",
    "    for event in pygame.event.get():\n",
    "        if event.type == pygame.QUIT:\n",
    "            sys.exit()\n"
   ]
  },
  {
   "cell_type": "markdown",
   "id": "978fa980",
   "metadata": {},
   "source": [
    "![blue sky](pygame_screenshots/13_1.png)"
   ]
  },
  {
   "cell_type": "markdown",
   "id": "db53b5ed",
   "metadata": {},
   "source": [
    "---\n",
    "**13-2: Better Stars:** You can make a more realistic star pattern by introducing randomness when you place each star. Recall that you can get a random number like this:\n",
    "\n",
    "    from random import randint\n",
    "    random_number = randint(-10,10)\n",
    "This code returns a random integer between -10 and 10. Using your code from 13-1, adjust each star's position by a random amount."
   ]
  },
  {
   "cell_type": "code",
   "execution_count": 2,
   "id": "fc148f30",
   "metadata": {},
   "outputs": [],
   "source": [
    "import pygame\n",
    "import sys\n",
    "from random import randint\n",
    "\n",
    "WIDTH = 400\n",
    "HEIGHT = 400\n",
    "\n",
    "screen = pygame.display.set_mode((WIDTH, HEIGHT))\n",
    "screen.fill((0, 0, 0,))\n",
    "\n",
    "star = pygame.image.load('star.png')\n",
    "\n",
    "star_width = star.get_width()\n",
    "available_space_x = WIDTH - (2 * star_width)\n",
    "number_stars_x = available_space_x // (2 * star_width)\n",
    "\n",
    "star_height = star.get_height()\n",
    "available_space_y = HEIGHT - (2 * star_height)\n",
    "number_stars_y = available_space_y // (2 * star_height)\n",
    "\n",
    "for i in range(number_stars_x):\n",
    "    for j in range(number_stars_y):\n",
    "        x_jitter = randint(-star_width, star_width)\n",
    "        y_jitter = randint(-star_height, star_height)\n",
    "        screen.blit(star, (star_width + 2 * star_width * i + x_jitter,\n",
    "                           star_height + 2 * star_height * j + y_jitter))\n",
    "\n",
    "pygame.display.flip()\n",
    "\n",
    "while True:\n",
    "    for event in pygame.event.get():\n",
    "        if event.type == pygame.QUIT:\n",
    "            sys.exit()\n"
   ]
  },
  {
   "cell_type": "markdown",
   "id": "66080441",
   "metadata": {},
   "source": [
    "![blue sky](pygame_screenshots/13_2.png)"
   ]
  },
  {
   "cell_type": "markdown",
   "id": "3a13ae4d",
   "metadata": {},
   "source": [
    "---\n",
    "**13-3. Raindrops:** Find an image of a raindrop and create a grid of raindrops. Make the raindrops fall toward the bottom of the screen until they dissappear."
   ]
  },
  {
   "cell_type": "code",
   "execution_count": 2,
   "id": "36da1ca2",
   "metadata": {},
   "outputs": [],
   "source": [
    "# game.py\n",
    "import pygame\n",
    "import sys\n",
    "from drop import Drop\n",
    "\n",
    "WIDTH = 400\n",
    "HEIGHT = 400\n",
    "\n",
    "clock = pygame.time.Clock()\n",
    "screen = pygame.display.set_mode((WIDTH, HEIGHT))\n",
    "screen.fill((0, 0, 0,))\n",
    "\n",
    "drop = Drop(screen, 0, 0)\n",
    "\n",
    "drop_width = drop.rect.width\n",
    "available_space_x = WIDTH - (2 * drop_width)\n",
    "number_drops_x = available_space_x // (2 * drop_width)\n",
    "\n",
    "drop_height = drop.rect.height\n",
    "available_space_y = HEIGHT - (2 * drop_height)\n",
    "number_drops_y = available_space_y // (2 * drop_height)\n",
    "drops = pygame.sprite.Group()\n",
    "\n",
    "for i in range(number_drops_x):\n",
    "    for j in range(number_drops_y):\n",
    "        drops.add(Drop(screen,\n",
    "                       drop_width + 2 * drop_width * i,\n",
    "                       drop_height + 2 * drop_height * j))\n",
    "\n",
    "pygame.display.flip()\n",
    "\n",
    "while True:\n",
    "    for event in pygame.event.get():\n",
    "        if event.type == pygame.QUIT:\n",
    "            sys.exit()\n",
    "\n",
    "    drops.update()\n",
    "\n",
    "    screen.fill((0, 0, 0,))\n",
    "    drops.draw(screen)\n",
    "    pygame.display.flip()\n",
    "    clock.tick(60)  # slow down the game to 60 frames per second"
   ]
  },
  {
   "cell_type": "code",
   "execution_count": null,
   "id": "55825904",
   "metadata": {},
   "outputs": [],
   "source": [
    "# drop.py\n",
    "import pygame\n",
    "\n",
    "\n",
    "class Drop(pygame.sprite.Sprite):\n",
    "    def __init__(self, screen, x, y):\n",
    "        super().__init__()\n",
    "        self.screen = screen\n",
    "        self.moving_up = False\n",
    "        self.moving_down = False\n",
    "        self.image = pygame.image.load('rain_drop.png')\n",
    "        self.rect = self.image.get_rect()\n",
    "        self.rect.x = x\n",
    "        self.rect.y = y\n",
    "\n",
    "    def update(self):\n",
    "        self.rect.y += 1"
   ]
  },
  {
   "cell_type": "markdown",
   "id": "bf01631b",
   "metadata": {},
   "source": [
    "![blue sky](pygame_screenshots/13_3.png)"
   ]
  },
  {
   "cell_type": "markdown",
   "id": "64f301bb",
   "metadata": {},
   "source": [
    "---\n",
    "\n",
    "**13-4. Steady Rain:** Modify the code from 13-3 so when a row of rain drops disappears off the bottom of the screen, a new row appears at the top of the screen and begins to fall. "
   ]
  },
  {
   "cell_type": "code",
   "execution_count": 2,
   "id": "96e4137b",
   "metadata": {},
   "outputs": [],
   "source": [
    "# game.py\n",
    "import pygame\n",
    "import sys\n",
    "from drop import Drop\n",
    "\n",
    "WIDTH = 400\n",
    "HEIGHT = 400\n",
    "\n",
    "clock = pygame.time.Clock()\n",
    "screen = pygame.display.set_mode((WIDTH, HEIGHT))\n",
    "screen.fill((0, 0, 0,))\n",
    "\n",
    "drop = Drop(screen, 0, 0)\n",
    "\n",
    "drop_width = drop.rect.width\n",
    "available_space_x = WIDTH - (2 * drop_width)\n",
    "number_drops_x = available_space_x // (2 * drop_width)\n",
    "\n",
    "drop_height = drop.rect.height\n",
    "available_space_y = HEIGHT - (2 * drop_height)\n",
    "number_drops_y = available_space_y // (2 * drop_height)\n",
    "drops = pygame.sprite.Group()\n",
    "\n",
    "for i in range(number_drops_x):\n",
    "    for j in range(number_drops_y):\n",
    "        drops.add(Drop(screen,\n",
    "                       drop_width + 2 * drop_width * i,\n",
    "                       drop_height + 2 * drop_height * j))\n",
    "\n",
    "pygame.display.flip()\n",
    "\n",
    "while True:\n",
    "    for event in pygame.event.get():\n",
    "        if event.type == pygame.QUIT:\n",
    "            sys.exit()\n",
    "\n",
    "    drops.update()\n",
    "\n",
    "    screen.fill((0, 0, 0,))\n",
    "    drops.draw(screen)\n",
    "    pygame.display.flip()\n",
    "    clock.tick(60)  # slow down the game to 60 frames per second\n"
   ]
  },
  {
   "cell_type": "code",
   "execution_count": null,
   "id": "ecdd67f7",
   "metadata": {},
   "outputs": [],
   "source": [
    "# drop.py\n",
    "import pygame\n",
    "\n",
    "\n",
    "class Drop(pygame.sprite.Sprite):\n",
    "    def __init__(self, screen, x, y):\n",
    "        super().__init__()\n",
    "        self.screen = screen\n",
    "        self.moving_up = False\n",
    "        self.moving_down = False\n",
    "        self.image = pygame.image.load('rain_drop.png')\n",
    "        self.rect = self.image.get_rect()\n",
    "        self.rect.x = x\n",
    "        self.rect.y = y\n",
    "\n",
    "    def update(self):\n",
    "        self.rect.y += 1\n",
    "        if self.rect.top > self.screen.get_rect().bottom:\n",
    "            self.rect.bottom = 0"
   ]
  },
  {
   "cell_type": "markdown",
   "id": "90cbe6c7",
   "metadata": {},
   "source": [
    "![blue sky](pygame_screenshots/13_4.png)"
   ]
  },
  {
   "cell_type": "markdown",
   "id": "89f48e50",
   "metadata": {},
   "source": [
    "---\n",
    "\n",
    "**13-5 Sideways Shooter Part 2:** We've come a long way since Exercise 12-6, Sideways Shooter. For this exercise, try to develop Sideways Shooter to the same point we've brought *Alien Invasion* to. Add a fleet of aliens, and make them move sideways toward the ship. Or, write code that places aliens at random positions along the right side of the screen and then sends them toward the ship. Also, write code that makes the aliens disappear when they're hit."
   ]
  },
  {
   "cell_type": "code",
   "execution_count": 2,
   "id": "03770250",
   "metadata": {},
   "outputs": [],
   "source": [
    "# code"
   ]
  },
  {
   "cell_type": "markdown",
   "id": "f0c11383",
   "metadata": {},
   "source": [
    "screen shot"
   ]
  },
  {
   "cell_type": "markdown",
   "id": "fd7847d6",
   "metadata": {},
   "source": [
    "**13-6. Game Over:** In Sideways Shooter, keep track of the number of times the ship is hit and the number of times an alien is hit by the ship. Decide on an appropriate condition for ending the game, and stop the game when this situation occurs. "
   ]
  },
  {
   "cell_type": "code",
   "execution_count": 2,
   "id": "9d758550",
   "metadata": {},
   "outputs": [],
   "source": [
    "# code"
   ]
  },
  {
   "cell_type": "markdown",
   "id": "23870754",
   "metadata": {},
   "source": [
    "screen shot"
   ]
  }
 ],
 "metadata": {
  "kernelspec": {
   "display_name": "Python 3 (ipykernel)",
   "language": "python",
   "name": "python3"
  },
  "language_info": {
   "codemirror_mode": {
    "name": "ipython",
    "version": 3
   },
   "file_extension": ".py",
   "mimetype": "text/x-python",
   "name": "python",
   "nbconvert_exporter": "python",
   "pygments_lexer": "ipython3",
   "version": "3.9.12"
  }
 },
 "nbformat": 4,
 "nbformat_minor": 5
}
