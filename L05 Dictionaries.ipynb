{
 "cells": [
  {
   "cell_type": "markdown",
   "id": "874397ba",
   "metadata": {},
   "source": [
    "<img src=\"https://www.usna.edu/WRC/_files/WRClogos/WRCE-logo-combined-01-crop.png\" width=\"200px\">\n",
    "\n",
    "# Dictionaries (Chapter 6)"
   ]
  },
  {
   "cell_type": "markdown",
   "id": "8d757823",
   "metadata": {},
   "source": [
    "Dictionaries are like lists but use strings called *keys* rather than a numeric index to refer to the stored items."
   ]
  },
  {
   "cell_type": "code",
   "execution_count": null,
   "id": "6ba8fc9b",
   "metadata": {},
   "outputs": [],
   "source": [
    "exam_grades = {\n",
    "    'alice': 100,\n",
    "    'bob': 95,\n",
    "    'charlie': 98\n",
    "}\n",
    "\n",
    "# retrieve values by their associated key\n",
    "print(f\"Alice received a {exam_grades['alice']} on the exam\")\n",
    "\n",
    "# change values\n",
    "exam_grades['alice'] = 105\n",
    "\n",
    "# add items to the dictionary (same as changing a value)\n",
    "exam_grades['dan'] = 85"
   ]
  },
  {
   "cell_type": "code",
   "execution_count": null,
   "id": "7e807199",
   "metadata": {},
   "outputs": [],
   "source": [
    "# start with an empty dictionary and add items (key-value pairs)\n",
    "alien_0 = {}\n",
    "alien_0['color'] = 'green'\n",
    "alien_0['points'] = 5\n",
    "print(alien_0)"
   ]
  },
  {
   "cell_type": "markdown",
   "id": "edfdb68b",
   "metadata": {},
   "source": [
    "### Alien Code Example"
   ]
  },
  {
   "cell_type": "code",
   "execution_count": null,
   "id": "26fe8782",
   "metadata": {},
   "outputs": [],
   "source": [
    "alien_0 = {'x_position': 0, 'y_position': 25, 'speed': 'medium'}\n",
    "print(f\"Original position: {alien_0['x_position']}\")\n",
    "\n",
    "# Move the alien to the right.\n",
    "# Determine how far to move the alien based on its current speed.\n",
    "if alien_0['speed'] == 'slow':\n",
    "    x_increment = 1\n",
    "elif alien_0['speed'] == 'medium':\n",
    "    x_increment = 2\n",
    "else:\n",
    "    # This must be a fast alien.\n",
    "    x_increment = 3\n",
    "\n",
    "# The new position is the old position plus the increment.\n",
    "alien_0['x_position'] = alien_0['x_position'] + x_increment\n",
    "\n",
    "print(f\"New position: {alien_0['x_position']}\")"
   ]
  },
  {
   "cell_type": "code",
   "execution_count": null,
   "id": "c1810d51",
   "metadata": {},
   "outputs": [],
   "source": [
    "# removing items from a dictionary\n",
    "favorite_foods = {\n",
    "    'alice': 'apples',\n",
    "    'bob': 'bananas',\n",
    "    'charlie': 'cucumbers'\n",
    "}\n",
    "# remove charlie\n",
    "del favorite_foods['charlie']\n",
    "\n",
    "print(favorite_foods)"
   ]
  },
  {
   "cell_type": "markdown",
   "id": "ae7f897a",
   "metadata": {},
   "source": [
    "### Using `get()` to Access Values"
   ]
  },
  {
   "cell_type": "code",
   "execution_count": null,
   "id": "a5e08712",
   "metadata": {},
   "outputs": [],
   "source": [
    "# trying to access an item that doesn't exist causes an error\n",
    "favorite_foods = {\n",
    "    'alice': 'apples',\n",
    "    'bob': 'bananas',\n",
    "    'charlie': 'cucumbers'\n",
    "}\n",
    "print(f\"Dan's favorite food is {favorite_foods['dan']}\")"
   ]
  },
  {
   "cell_type": "code",
   "execution_count": null,
   "id": "5d51d782",
   "metadata": {},
   "outputs": [],
   "source": [
    "# use get() to avoid an error and provide a default value instead\n",
    "print(f\"Dan's favorite food is {favorite_foods.get('dan','unknown')}\")"
   ]
  },
  {
   "cell_type": "markdown",
   "id": "d441715f",
   "metadata": {},
   "source": [
    "### Looping Through a Dictionary"
   ]
  },
  {
   "cell_type": "code",
   "execution_count": null,
   "id": "0f970fd3",
   "metadata": {},
   "outputs": [],
   "source": [
    "favorite_foods = {\n",
    "    'alice': 'apples',\n",
    "    'bob': 'bananas',\n",
    "    'charlie': 'cucumbers'\n",
    "}\n",
    "# print everyone's favorite foods\n",
    "for name,food in favorite_foods.items():\n",
    "    print(f\"{name.title()}'s favorite food is {food}.\")\n",
    "\n",
    "print(\"\\n\")\n",
    "# just print everyone's names\n",
    "for name in favorite_foods.keys():\n",
    "    print(name.title())\n",
    "    \n",
    "print(\"\\n\")\n",
    "# just print the foods\n",
    "for name in favorite_foods.values():\n",
    "    print(name.title())\n",
    "\n",
    "print(\"\\n\")\n",
    "# looping through the dictionary directly gives the keys\n",
    "for name in favorite_foods:\n",
    "    print(name.title())\n",
    "    "
   ]
  },
  {
   "cell_type": "code",
   "execution_count": null,
   "id": "51aa9b96",
   "metadata": {},
   "outputs": [],
   "source": [
    "favorite_languages = {\n",
    "    'jen': 'python',\n",
    "    'sarah': 'c',\n",
    "    'edward': 'ruby',\n",
    "    'phil': 'python',\n",
    "    }\n",
    "\n",
    "friends = ['phil', 'sarah']\n",
    "for name in favorite_languages.keys():\n",
    "    print(name.title())\n",
    "    \n",
    "    if name in friends:\n",
    "        language = favorite_languages[name].title()\n",
    "        print(f\"\\t{name.title()}, I see you love {language}!\")"
   ]
  },
  {
   "cell_type": "code",
   "execution_count": null,
   "id": "d92bdfd9",
   "metadata": {},
   "outputs": [],
   "source": [
    "# use sorted() loop in a particular order\n",
    "for name in sorted(favorite_foods, reverse=True):\n",
    "    print(name.title())"
   ]
  },
  {
   "cell_type": "code",
   "execution_count": null,
   "id": "5982717a",
   "metadata": {},
   "outputs": [],
   "source": [
    "# use set() to find unique values\n",
    "colors = ['red','red','blue','green','blue']\n",
    "print(set(colors))\n",
    "\n",
    "print(\"\\n\")\n",
    "\n",
    "# use set() along with .values() to print unique values in a dictionary\n",
    "favorite_foods = {\n",
    "    'alice': 'apples',\n",
    "    'bob': 'bananas',\n",
    "    'charlie': 'apples' # duplicate value\n",
    "}\n",
    "print(set(favorite_foods.values()))\n",
    "\n",
    "# TODO print each type of fruit you need to buy on a separate line using a loop"
   ]
  },
  {
   "cell_type": "markdown",
   "id": "a8c8aef6",
   "metadata": {},
   "source": [
    "### Nesting"
   ]
  },
  {
   "cell_type": "code",
   "execution_count": null,
   "id": "67195984",
   "metadata": {},
   "outputs": [],
   "source": [
    "# a list of dictionaries\n",
    "users = [{'name':'Alice', 'email':'alice@gmail.com'},\n",
    "         {'name':'Bob', 'email':'bob123@hotmail.com'},\n",
    "         {'name':'Charlie','email':'charlz@yahoo.com'}]\n",
    "# print all of the user names:\n",
    "for user in users:\n",
    "    print(user['name'])\n",
    "    \n",
    "# a dictionary of lists\n",
    "course_roster={\n",
    "    'section1': ['alice','bob','charlie'],\n",
    "    'section2': ['dan','edward','frank']\n",
    "}\n",
    "# print all of the students\n",
    "all_students = []\n",
    "for students in course_roster.values():\n",
    "    all_students += students\n",
    "print(all_students)"
   ]
  },
  {
   "cell_type": "code",
   "execution_count": null,
   "id": "968455b8",
   "metadata": {},
   "outputs": [],
   "source": [
    "# Make an empty list for storing aliens.\n",
    "aliens = []\n",
    "\n",
    "# Make 30 green aliens.\n",
    "for alien_number in range(30):\n",
    "    new_alien = {'color': 'green', 'points': 5, 'speed': 'slow'}\n",
    "    aliens.append(new_alien)\n",
    "\n",
    "for alien in aliens[:3]:\n",
    "    if alien['color'] == 'green':\n",
    "        alien['color'] = 'yellow'\n",
    "        alien['speed'] = 'medium'\n",
    "        alien['points'] = 10\n",
    "    \n",
    "# Show the first 5 aliens.\n",
    "for alien in aliens[:5]:\n",
    "    print(alien)\n",
    "print(\"...\")"
   ]
  },
  {
   "cell_type": "markdown",
   "id": "4dfb0b0a",
   "metadata": {},
   "source": [
    "Dictionary in a Dictionary"
   ]
  },
  {
   "cell_type": "code",
   "execution_count": null,
   "id": "d37a0cf8",
   "metadata": {},
   "outputs": [],
   "source": [
    "users = {\n",
    "    'aeinstein': {\n",
    "        'first': 'albert',\n",
    "        'last': 'einstein',\n",
    "        'location': 'princeton',\n",
    "        },\n",
    "\n",
    "    'mcurie': {\n",
    "        'first': 'marie',\n",
    "        'last': 'curie',\n",
    "        'location': 'paris',\n",
    "        },\n",
    "\n",
    "    }\n",
    "\n",
    "for username, user_info in users.items():\n",
    "    print(f\"\\nUsername: {username}\")\n",
    "    full_name = f\"{user_info['first']} {user_info['last']}\"\n",
    "    location = user_info['location']\n",
    "\n",
    "    print(f\"\\tFull name: {full_name.title()}\")\n",
    "    print(f\"\\tLocation: {location.title()}\")"
   ]
  },
  {
   "cell_type": "markdown",
   "id": "20e482ab",
   "metadata": {},
   "source": [
    "-----\n",
    "\n",
    "## Homework Problems"
   ]
  },
  {
   "cell_type": "markdown",
   "id": "a2eeddc0",
   "metadata": {},
   "source": [
    "**6-1. Person:** Use a dictionary to store information about a person you know. Store their first name, last name, age, and the city in which they live. You should have keys such as `first_name`, `last_name`, and `city`. Print each piece of information stored in your dictionary."
   ]
  },
  {
   "cell_type": "code",
   "execution_count": null,
   "id": "36700fb3",
   "metadata": {},
   "outputs": [],
   "source": []
  },
  {
   "cell_type": "markdown",
   "id": "defece07",
   "metadata": {},
   "source": [
    "**6-2. Favorite Numbers:** Use a dictionary to store people's favorite numbers. Think of five names, and use them as keys in your dictionary. Think of a favorite number for each person, and store each as a value in your dictionary. Print each person's name and their favorite number."
   ]
  },
  {
   "cell_type": "code",
   "execution_count": null,
   "id": "91e98077",
   "metadata": {},
   "outputs": [],
   "source": []
  },
  {
   "cell_type": "markdown",
   "id": "d928eff3",
   "metadata": {},
   "source": [
    "**6-3. Glossary:** A Python dictionary can be used to model an actual dictionary. However to avoid confusion let's call it a glossary.\n",
    "* Think of five programming words you've learned about in the previous chapters. Use these words as the keys in your glossary, and store their meanings as values.\n",
    "* Print each word and its meaning as neatly formatted otuput. You might print the word followed by a colon and then its meaning, or print the word on one line and then print its meaning indented on a second line. Use the newline character (`\\n`) to insert a blank line between each word-meaning pair in your output."
   ]
  },
  {
   "cell_type": "code",
   "execution_count": null,
   "id": "e88736ae",
   "metadata": {},
   "outputs": [],
   "source": []
  },
  {
   "cell_type": "markdown",
   "id": "9830572d",
   "metadata": {},
   "source": [
    "**6-4. Glossary 2:** Clean up the code from above by replacing your series of `print()` calls with a loop that runs through the dictionary's keys and values. When you're sure that your loop works, add five more Python terms to your glossary. When you run your program again, these new words and meanings should automatically be included in the output."
   ]
  },
  {
   "cell_type": "code",
   "execution_count": null,
   "id": "1d1269d2",
   "metadata": {},
   "outputs": [],
   "source": []
  },
  {
   "cell_type": "markdown",
   "id": "2a4180d7",
   "metadata": {},
   "source": [
    "**6-5. Rivers:** Make a dictionary containing three major rivers and the country each river runs thorugh. One key-value pair might be `'nile': 'egypt'`. \n",
    "* Use a loop to print a sentence about each river, such as *The Nile runs through Egypt*. \n",
    "* Use a loop to print the name of each river included in the dictionary.\n",
    "* Use a loop to print the name of each country included in the the dictionary."
   ]
  },
  {
   "cell_type": "code",
   "execution_count": null,
   "id": "5e30bcf4",
   "metadata": {},
   "outputs": [],
   "source": []
  },
  {
   "cell_type": "markdown",
   "id": "bb37ec94",
   "metadata": {},
   "source": [
    "**6-6. Polling:** Use the code in *favorite_languages.py* (page 97).\n",
    "* Make a list of people who should take the favorite languages poll. Include some names that are already in the dictionary and some that are not.\n",
    "* Loop through the list of people who should take the poll. If they have already taken the poll, print a message thanking them for responding. If they have not yet taken the poll, print a message inviting them to take the poll."
   ]
  },
  {
   "cell_type": "code",
   "execution_count": null,
   "id": "126b1f02",
   "metadata": {},
   "outputs": [],
   "source": []
  },
  {
   "cell_type": "markdown",
   "id": "3a97bce4",
   "metadata": {},
   "source": [
    "**6-7. People:** Start with the program you wrote for Exercise 6-1. Make two new dictionaries representing different people, and store all three dictionaries in a list called `people`. Loop through your list of people. As you loop through the list, print everything you know about each person."
   ]
  },
  {
   "cell_type": "code",
   "execution_count": null,
   "id": "1d600c23",
   "metadata": {},
   "outputs": [],
   "source": []
  },
  {
   "cell_type": "markdown",
   "id": "9321dfaa",
   "metadata": {},
   "source": [
    "**6-8. Pets:** Make several dictionaries, where each dictionary represents a different pet. In each dictionary, include the kind of animal and the owner's name. Store these dictionaries in a list called `pets`. Next, loop through your list and as you do, print everything you know about each pet."
   ]
  },
  {
   "cell_type": "code",
   "execution_count": null,
   "id": "29b00071",
   "metadata": {},
   "outputs": [],
   "source": []
  },
  {
   "cell_type": "markdown",
   "id": "5a060c2e",
   "metadata": {},
   "source": [
    "**6-9. Favorite Places:** Make a dictionary called `favorite_places`. Think of three names to use as keys in the dictionary, and store one to three favorite places for each person. Loop through the dictionary, and print each person's name and their favorite place."
   ]
  },
  {
   "cell_type": "code",
   "execution_count": null,
   "id": "3f106631",
   "metadata": {},
   "outputs": [],
   "source": []
  },
  {
   "cell_type": "markdown",
   "id": "2bf64f77",
   "metadata": {},
   "source": [
    "**6-10. Favorite Numbers:** Modify your program from Exercise 6-2 so each person can have more than one favorite number. Then print each person's name along with their favorite numbers."
   ]
  },
  {
   "cell_type": "code",
   "execution_count": null,
   "id": "9805b662",
   "metadata": {},
   "outputs": [],
   "source": []
  },
  {
   "cell_type": "markdown",
   "id": "ace442c3",
   "metadata": {},
   "source": [
    "**6-11 Cities:** Make a dictionary called `cities`. Use the names of three cities as keys in your dictionary. Create a dictionary of information about each city and include the country that the city is in, its approximate population, and one fact about that city. The keys for each city's dictionary should be something like `country`, `population`, and `fact`. Print the name of each city and all of the information you have stored about it."
   ]
  },
  {
   "cell_type": "code",
   "execution_count": null,
   "id": "5b4b7d26",
   "metadata": {},
   "outputs": [],
   "source": []
  },
  {
   "cell_type": "markdown",
   "id": "53600553",
   "metadata": {},
   "source": [
    "**6-12. Extensions:** We're now working with examples that are complex enough that they can be extended in any number of ways. Use one of the example programs from this chapter, and extend it by adding new keys and values, changing the context of the program or improving the formatting of the output."
   ]
  },
  {
   "cell_type": "code",
   "execution_count": null,
   "id": "11e3a09c",
   "metadata": {},
   "outputs": [],
   "source": []
  }
 ],
 "metadata": {
  "kernelspec": {
   "display_name": "Python 3 (ipykernel)",
   "language": "python",
   "name": "python3"
  },
  "language_info": {
   "codemirror_mode": {
    "name": "ipython",
    "version": 3
   },
   "file_extension": ".py",
   "mimetype": "text/x-python",
   "name": "python",
   "nbconvert_exporter": "python",
   "pygments_lexer": "ipython3",
   "version": "3.7.9"
  }
 },
 "nbformat": 4,
 "nbformat_minor": 5
}
