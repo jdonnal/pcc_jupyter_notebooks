{
 "cells": [
  {
   "cell_type": "markdown",
   "metadata": {},
   "source": [
    "<img src=\"https://www.usna.edu/WRC/_files/WRClogos/WRCE-logo-combined-01-crop.png\" width=\"200px\">\n",
    "\n",
    "# Introducing Lists (Chapter 3)"
   ]
  },
  {
   "cell_type": "code",
   "execution_count": null,
   "metadata": {},
   "outputs": [],
   "source": [
    "# a list is a collection of items in a particular order.\n",
    "# lists can contain any type of varible (letters, numbers, strings)\n",
    "favorite_numbers = [1, 42, 18]\n",
    "print(favorite_numbers)\n",
    "\n",
    "favorite_foods = ['buffalo chicken sandwich','a second buffalo chicken sandwich']\n",
    "print(favorite_foods)\n",
    "\n",
    "# lists can even contain other lists\n",
    "all_my_favorites = [favorite_numbers, favorite_foods]\n",
    "\n",
    "# different types of items can be in the same list\n",
    "random_stuff = [-5, 'Go Navy', 'A']\n",
    "\n",
    "# TODO: make a list of all of your classes (like ['EW200', ...]) and print it\n"
   ]
  },
  {
   "cell_type": "markdown",
   "metadata": {},
   "source": [
    "**Accessing Elements in a List**"
   ]
  },
  {
   "cell_type": "code",
   "execution_count": null,
   "metadata": {},
   "outputs": [],
   "source": [
    "# access items by their position in the list or 'index'\n",
    "names = ['Alice', 'Bob', 'Charlie']\n",
    "print(names[0]) # NOTE the first item has index 0\n",
    "\n",
    "#Array elements act just like normal variables from Chapter 2\n",
    "print(names[0].lower())\n",
    "print(f\"Hello my name is {names[1]}\")\n",
    "\n",
    "#TODO print the last name in the list\n",
    "\n",
    "#TODO what does names[-1] print?\n"
   ]
  },
  {
   "cell_type": "markdown",
   "metadata": {},
   "source": [
    "**Changing, Adding, and Removing Elements**"
   ]
  },
  {
   "cell_type": "code",
   "execution_count": null,
   "metadata": {},
   "outputs": [],
   "source": [
    "# Lists are dynamic. You can add, remove, and change elements\n",
    "names = ['Alice','Bob', 'Charlie']\n",
    "names[1] = 'Bart'\n",
    "print(names)\n",
    "\n",
    "#appending to the end of the list\n",
    "names.append('Dan')\n",
    "print(names)\n",
    "\n",
    "# inserting elements into a list\n",
    "names.insert(1, 'Beth')\n",
    "print(names)\n",
    "\n",
    "# combining lists\n",
    "other_names = ['Xavier','Yolanda','Ziggy']\n",
    "all_names = names+other_names\n",
    "print(all_names)\n",
    "\n",
    "# Removing Elements from a list\n",
    "del names[0]\n",
    "print(names)\n",
    "\n",
    "best_friend = names.pop() # pop last item into a variable\n",
    "\n",
    "other_best_friend = names.pop(1) # pop a particular item into a variable\n",
    "\n",
    "# removing item by value\n",
    "names.remove('Charlie')\n",
    "print(names)\n",
    "\n",
    "# CAREFUL: remove only removes the first occurence in the list\n",
    "colors = ['red','green','blue','green']\n",
    "colors.remove('green')\n",
    "print(colors) # still has green\n"
   ]
  },
  {
   "cell_type": "code",
   "execution_count": null,
   "metadata": {},
   "outputs": [],
   "source": [
    "# TODO create a list of the vowels in a random order but skip 'i'\n",
    "#      insert i at the end of the list\n",
    "#      pop your favorite vowel off into a new variable"
   ]
  },
  {
   "cell_type": "markdown",
   "metadata": {},
   "source": [
    "**Organizing a List**"
   ]
  },
  {
   "cell_type": "code",
   "execution_count": null,
   "metadata": {},
   "outputs": [],
   "source": [
    "#there are several functions that can sort lists in particular order\n",
    "names = ['Bob','Charlie','Alice']\n",
    "names.sort() # in place (permanently sorts)\n",
    "print(names)\n",
    "names.sort(reverse=True)\n",
    "print(names)\n",
    "\n",
    "# create a new copy of the list (original is unchanged)\n",
    "names = ['Bob','Charlie','Alice']\n",
    "sorted_names = sorted(names)\n",
    "print(\"Original:\")\n",
    "print(names)\n",
    "print(\"Sorted:\")\n",
    "print(sorted_names)\n",
    "\n",
    "# change order (not a sort)\n",
    "print(names)\n",
    "names.reverse()\n",
    "print(names)"
   ]
  },
  {
   "cell_type": "code",
   "execution_count": null,
   "metadata": {},
   "outputs": [],
   "source": [
    "# TODO create a list of the vowels in a random order\n",
    "#      sort the list alphabetically\n",
    "#      reverse the list"
   ]
  },
  {
   "cell_type": "markdown",
   "metadata": {},
   "source": [
    "------\n",
    "### Helpful Hints"
   ]
  },
  {
   "cell_type": "code",
   "execution_count": null,
   "metadata": {},
   "outputs": [],
   "source": [
    "# negative indexes count from the back of the list\n",
    "# -1 is the last item, -2 is the second-to-last, etc\n",
    "print(names[-2])\n",
    "\n",
    "# len returns the length of a list (number of elements)\n",
    "print(f\"There are {len(names)} names\")\n",
    "\n",
    "# index errors are common, especially off-by-one\n",
    "names = ['Bob','Charlie','Alice']\n",
    "print(names[3]) # three names but last element is index 2\n"
   ]
  },
  {
   "cell_type": "markdown",
   "metadata": {},
   "source": [
    "-----\n",
    "\n",
    "## Homework Problems"
   ]
  },
  {
   "cell_type": "markdown",
   "metadata": {},
   "source": [
    "**3-1. Names:** Store the names of a few of your friends in a list called ``names``. Print each person's name by acceessing each element in the list, one at a time"
   ]
  },
  {
   "cell_type": "code",
   "execution_count": null,
   "metadata": {},
   "outputs": [],
   "source": []
  },
  {
   "cell_type": "markdown",
   "metadata": {},
   "source": [
    "**3-2. Greetings:** Start with the list you used above, but instead of just printing each person's name, print a message to them. The text of each message should be the same, but each message should be personalized with the person's name"
   ]
  },
  {
   "cell_type": "code",
   "execution_count": null,
   "metadata": {},
   "outputs": [],
   "source": []
  },
  {
   "cell_type": "markdown",
   "metadata": {},
   "source": [
    "**3-3. Your Own List:** Think of your favorite mode of transportation, such as a motorcycle or a car, and make a list that stores several examples. Use your list to print a series of statements about these items, such as \"I would like to own a Honda motorcycle\" "
   ]
  },
  {
   "cell_type": "code",
   "execution_count": null,
   "metadata": {},
   "outputs": [],
   "source": []
  },
  {
   "cell_type": "markdown",
   "metadata": {},
   "source": [
    "**3-4. Guest List:** If you could invite any famous Naval Officer, living or deceased, to a dinner, who would you invite? Make a list that includes at least three officers you'd like to invite to dinner. Then use your list to print a message to each person, inviting them to dinner. "
   ]
  },
  {
   "cell_type": "code",
   "execution_count": null,
   "metadata": {},
   "outputs": [],
   "source": []
  },
  {
   "cell_type": "markdown",
   "metadata": {},
   "source": [
    "**3-5. Changing Guest List:** One of your guests cannot make it, which is ok because you forgot to invite someone from the Marines. \n",
    "  * Start with the code from above. Add a ``print()`` call at the end of the program stating the name of the guest who can't make it.\n",
    "  * Modify the list, replacing the guest who can't make it with a famous Marine Officer.\n",
    "  * Print a second set of invitation messages, one for each person who is still in your list"
   ]
  },
  {
   "cell_type": "code",
   "execution_count": null,
   "metadata": {},
   "outputs": [],
   "source": []
  },
  {
   "cell_type": "markdown",
   "metadata": {},
   "source": [
    "**3-6. More Guests:** You just found a bigger dinner table, so now more space is available. Think of three famous Army Officers to invite to dinner. A joint operation!\n",
    "  * Start with the code from above. Add a ``print()`` call to the end of your program informing people that you found a bigger dinner table.\n",
    "  * Use ``insert()`` to add one new guest to the beginning of your list.\n",
    "  * Use ``insert()`` to add one new guest to the middle of your list.\n",
    "  * Use ``append()`` to add one new guest to the end of your list.\n",
    "  * Print a new set of invitation messages, one for each person in your list."
   ]
  },
  {
   "cell_type": "code",
   "execution_count": null,
   "metadata": {},
   "outputs": [],
   "source": []
  },
  {
   "cell_type": "markdown",
   "metadata": {},
   "source": [
    "**3-7. Shrinking Guest List:** You just found out that your new dinner table won't arrive in time for the dinner and you have space for only two guests.\n",
    "\n",
    "  * Start with the program above. Add a new line that prints a message saying that you can invite only two people for dinner.\n",
    "  * Use ``pop()`` to remove guests from your list one at a time until only two names remain in your list. Each time you pop a name from your list, print a message to that person letting them know you're sorry you can't invite them to dinner.\n",
    "  * Print a message to each of the two people still on your list, letting them know they are still invited.\n",
    "  * Use ``del`` to remove the last two names from your list, so you have an empty list. Print your list to make sure you actually have an empty list at the end of your program."
   ]
  },
  {
   "cell_type": "code",
   "execution_count": null,
   "metadata": {},
   "outputs": [],
   "source": []
  },
  {
   "cell_type": "markdown",
   "metadata": {},
   "source": [
    "**3-8. Seeing the World:** Think of at least five places in the world you'd like to visit.\n",
    "* Store the locations in a list. Make sure the list is not in alphabetical order.\n",
    "* Print your list in its original order. Don't worry about printing the list neatly, just print it as a raw Python list.\n",
    "* Use ``sorted()`` to print your list in alphabetical order without modifying the actual list.\n",
    "* Show that your list is still in its original order by printing it.\n",
    "* Use ``sorted()`` to print your list in reverse alphabetical order without changing the order of the original list.\n",
    "* Show that your list is still in its original order by printing it again.\n",
    "* Use ``reverse()`` to change the order of your list. Print the list to show that its order has changed.\n",
    "* Use ``reverse()`` to change the order of your list again. Print the list to show it's back in its original order.\n",
    "* Use ``sort()`` to change your list so it's stored in reverse alphabetical order. Print the list to show that its order has changed."
   ]
  },
  {
   "cell_type": "code",
   "execution_count": null,
   "metadata": {},
   "outputs": [],
   "source": []
  },
  {
   "cell_type": "markdown",
   "metadata": {},
   "source": [
    "**3-9. Dinner Guests:** Working with one of the programs from **3-4** through **3-7**, use ``len()`` to print a message indicating the number of people you are inviting to dinner."
   ]
  },
  {
   "cell_type": "code",
   "execution_count": null,
   "metadata": {},
   "outputs": [],
   "source": []
  },
  {
   "cell_type": "markdown",
   "metadata": {},
   "source": [
    "**3-10. Every Function:** Think of something you could store in a list. For example, you could make a list of mountains, rivers, countries, cities, languages, or anything else you'd like. Write a program that creates a list containing these items and then uses each function introduced in this chapter at least once. "
   ]
  },
  {
   "cell_type": "code",
   "execution_count": null,
   "metadata": {},
   "outputs": [],
   "source": []
  },
  {
   "cell_type": "markdown",
   "metadata": {},
   "source": [
    "**3-11. Intentional Error:** Change an index in one of your programs to produce an index error. Learning how to read and understand Python error messages can significantly speed up your code debugging."
   ]
  },
  {
   "cell_type": "code",
   "execution_count": null,
   "metadata": {},
   "outputs": [],
   "source": []
  }
 ],
 "metadata": {
  "kernelspec": {
   "display_name": "Python 3",
   "language": "python",
   "name": "python3"
  },
  "language_info": {
   "codemirror_mode": {
    "name": "ipython",
    "version": 3
   },
   "file_extension": ".py",
   "mimetype": "text/x-python",
   "name": "python",
   "nbconvert_exporter": "python",
   "pygments_lexer": "ipython3",
   "version": "3.7.3"
  }
 },
 "nbformat": 4,
 "nbformat_minor": 5
}
