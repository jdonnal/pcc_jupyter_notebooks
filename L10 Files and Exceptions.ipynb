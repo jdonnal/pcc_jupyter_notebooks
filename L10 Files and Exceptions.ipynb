{
 "cells": [
  {
   "cell_type": "markdown",
   "id": "874397ba",
   "metadata": {},
   "source": [
    "<img src=\"https://www.usna.edu/WRC/_files/WRClogos/WRCE-logo-combined-01-crop.png\" width=\"200px\">\n",
    "\n",
    "# Files and Exceptions (Chapter 10)"
   ]
  },
  {
   "cell_type": "code",
   "execution_count": null,
   "id": "d08906dc",
   "metadata": {},
   "outputs": [],
   "source": [
    "# Reading from a file\n",
    "with open('text_files/pi_digits.txt') as file_object: # use forward slashes\n",
    "    contents = file_object.read()\n",
    "print(contents)"
   ]
  },
  {
   "cell_type": "code",
   "execution_count": null,
   "id": "a691970e",
   "metadata": {},
   "outputs": [],
   "source": [
    "# Reading line by line\n",
    "filename = 'text_files/pi_digits.txt'\n",
    "with open(filename) as file_object:\n",
    "    for line in file_object:\n",
    "        print(f\"line: {line}\")\n",
    "  "
   ]
  },
  {
   "cell_type": "code",
   "execution_count": null,
   "id": "92719f9c",
   "metadata": {},
   "outputs": [],
   "source": [
    "# use rstrip to remove extra white space\n",
    "with open(filename) as file_object:\n",
    "    for line in file_object:\n",
    "        print(f\"line: {line.rstrip()}\")"
   ]
  },
  {
   "cell_type": "code",
   "execution_count": null,
   "id": "700fcef6",
   "metadata": {},
   "outputs": [],
   "source": [
    "# make a list of lines\n",
    "with open(filename) as file_object:\n",
    "    lines = file_object.readlines()\n",
    "    \n",
    "for line in lines:\n",
    "    print(line.rstrip())"
   ]
  },
  {
   "cell_type": "code",
   "execution_count": null,
   "id": "3b248963",
   "metadata": {},
   "outputs": [],
   "source": [
    "# working with a file's contents\n",
    "print(\"lines:\",lines)\n",
    "\n",
    "pi_string = ''\n",
    "for line in lines:\n",
    "    pi_string += line\n",
    "print(\"\\npi_string:\", pi_string)\n",
    "\n",
    "pi_string = ''\n",
    "for line in lines:\n",
    "    pi_string += line.strip()\n",
    "print(\"\\npi_string with strip:\", pi_string)"
   ]
  },
  {
   "cell_type": "code",
   "execution_count": null,
   "id": "858d45b0",
   "metadata": {},
   "outputs": [],
   "source": [
    "# large files\n",
    "filename = 'text_files/pi_million_digits.txt'\n",
    "\n",
    "with open(filename) as file_object:\n",
    "    lines = file_object.readlines()\n",
    "    \n",
    "print(lines)"
   ]
  },
  {
   "cell_type": "code",
   "execution_count": null,
   "id": "3cec74b2",
   "metadata": {},
   "outputs": [],
   "source": [
    "# combine into a single string\n",
    "pi_string = ''\n",
    "for line in lines:\n",
    "    pi_string += line.strip()\n",
    "    \n",
    "print(len(pi_string)) # 3. + 1 million decimal places!"
   ]
  },
  {
   "cell_type": "code",
   "execution_count": null,
   "id": "cda63391",
   "metadata": {},
   "outputs": [],
   "source": [
    "#is your birthday contained in pi?\n",
    "birthday = input(\"Enter your birthday, in the form mmddyy: \")\n",
    "if birthday in pi_string:\n",
    "    print(\"Your birthday appears in the first million digits of pi!\")\n",
    "else:\n",
    "    print(\"Your birthday does not appear in the first million digits of pi\")"
   ]
  },
  {
   "cell_type": "markdown",
   "id": "59b8cb84",
   "metadata": {},
   "source": [
    "### Writing to a File"
   ]
  },
  {
   "cell_type": "code",
   "execution_count": null,
   "id": "883d046d",
   "metadata": {},
   "outputs": [],
   "source": [
    "filename = 'text_files/programming.txt'\n",
    "with open(filename,'w') as file_object:\n",
    "    file_object.write(\"I love programming.\") # add newlines (\\n) to separate lines\n",
    "    file_object.write(\"I love Python.\")"
   ]
  },
  {
   "cell_type": "code",
   "execution_count": null,
   "id": "d8aae153",
   "metadata": {},
   "outputs": [],
   "source": [
    "# appending to a file\n",
    "with open(filename,'a') as file_object:\n",
    "    file_object.write(\"I also love cooking.\")"
   ]
  },
  {
   "cell_type": "markdown",
   "id": "782c7921",
   "metadata": {},
   "source": [
    "### Exceptions"
   ]
  },
  {
   "cell_type": "code",
   "execution_count": null,
   "id": "ff2a714d",
   "metadata": {},
   "outputs": [],
   "source": [
    "print(5/0) # This generates a ZeroDivisionError Exception"
   ]
  },
  {
   "cell_type": "markdown",
   "id": "d917156d",
   "metadata": {},
   "source": [
    "Wrap code in `try-except` blocks to handle error conditions that would otherwise stop the program:"
   ]
  },
  {
   "cell_type": "code",
   "execution_count": null,
   "id": "5e121648",
   "metadata": {},
   "outputs": [],
   "source": [
    "try:\n",
    "    print(5/0)\n",
    "except ZeroDivisionError:\n",
    "    print(\"You can't divide by zero\")"
   ]
  },
  {
   "cell_type": "markdown",
   "id": "b12d605a",
   "metadata": {},
   "source": [
    "Use a `while` block to handle user input errors. Use an `else` clause to run code if an exception is not raised."
   ]
  },
  {
   "cell_type": "code",
   "execution_count": null,
   "id": "8dc5a814",
   "metadata": {},
   "outputs": [],
   "source": [
    "print(\"Give me two numbers, and I'll divide them.\")\n",
    "print(\"Enter 'q' to quit.\")\n",
    "\n",
    "while True:\n",
    "    first_number = input(\"\\nFirst number: \")\n",
    "    if first_number == 'q':\n",
    "        break\n",
    "    second_number = input(\"Second number: \")\n",
    "    try:\n",
    "        answer = int(first_number) / int(second_number)\n",
    "    except ZeroDivisionError:\n",
    "        print(\"You can't divide by 0!\")\n",
    "    else:\n",
    "        print(answer)"
   ]
  },
  {
   "cell_type": "markdown",
   "id": "b6235813",
   "metadata": {},
   "source": [
    "**Handling the `FileNotFound` Exception and Analyzing Text**\n",
    "\n",
    "After running this cell once to see the error message download the text of *Alice in Wonderland* here: https://gutenberg.org/cache/epub/11/pg11.txt"
   ]
  },
  {
   "cell_type": "code",
   "execution_count": null,
   "id": "d0d957f9",
   "metadata": {},
   "outputs": [],
   "source": [
    "filename = 'alice.txt'\n",
    "\n",
    "try:\n",
    "    with open(filename, encoding='utf-8') as f_obj:\n",
    "        contents = f_obj.read()\n",
    "except FileNotFoundError as e:\n",
    "    msg = \"Sorry, the file \" + filename + \" does not exist.\"\n",
    "    print(msg)\n",
    "else:\n",
    "    # Count the approximate number of words in the file.\n",
    "    words = contents.split()\n",
    "    num_words = len(words)\n",
    "    print(\"The file \" + filename + \" has about \" + str(num_words) + \" words.\")"
   ]
  },
  {
   "cell_type": "markdown",
   "id": "33cfbedc",
   "metadata": {},
   "source": [
    "**Working with Multiple Files**\n",
    "\n",
    "Before running the cell below download the following files, note `siddharta.txt` is intentionally omitted:\n",
    "* `alice.txt`: https://gutenberg.org/cache/epub/11/pg11.txt\n",
    "* `moby_dick.txt`: https://gutenberg.org/cache/epub/15/pg15.txt\n",
    "* `little_women.txt`: https://gutenberg.org/cache/epub/514/pg514.txt"
   ]
  },
  {
   "cell_type": "code",
   "execution_count": null,
   "id": "1d2701a5",
   "metadata": {},
   "outputs": [],
   "source": [
    "def count_words(filename):\n",
    "    \"\"\"Count the approximate number of words in a file.\"\"\"\n",
    "    try:\n",
    "        with open(filename, encoding='utf-8') as f_obj:\n",
    "            contents = f_obj.read() \n",
    "    except FileNotFoundError:\n",
    "        # pass <== fail silently\n",
    "        print(f\"Sorry, the file {filename} does not exist\")\n",
    "    else:\n",
    "        # Count approximate number of words in the file.\n",
    "        words = contents.split()\n",
    "        num_words = len(words)\n",
    "        print(\"The file \" + filename + \" has about \" + str(num_words) + \" words.\")\n",
    "\n",
    "filenames = ['alice.txt', 'siddhartha.txt', 'moby_dick.txt', 'little_women.txt']\n",
    "for filename in filenames:\n",
    "    count_words(filename)"
   ]
  },
  {
   "cell_type": "markdown",
   "id": "b366eb5a",
   "metadata": {},
   "source": [
    "## Storing Data"
   ]
  },
  {
   "cell_type": "markdown",
   "id": "2f7de777",
   "metadata": {},
   "source": [
    "Write data out to `numbers.json`:"
   ]
  },
  {
   "cell_type": "code",
   "execution_count": null,
   "id": "b204d490",
   "metadata": {},
   "outputs": [],
   "source": [
    "import json # the following examples use the json library"
   ]
  },
  {
   "cell_type": "code",
   "execution_count": null,
   "id": "437962aa",
   "metadata": {},
   "outputs": [],
   "source": [
    "numbers = [2, 3, 5, 7, 11, 13]\n",
    "\n",
    "filename = 'numbers.json'\n",
    "with open(filename, 'w') as file_object:\n",
    "    json.dump(numbers, file_object)"
   ]
  },
  {
   "cell_type": "markdown",
   "id": "6fb73c3a",
   "metadata": {},
   "source": [
    "Read data in from `numbers.json`"
   ]
  },
  {
   "cell_type": "code",
   "execution_count": null,
   "id": "0a475aeb",
   "metadata": {},
   "outputs": [],
   "source": [
    "filename = 'numbers.json'\n",
    "with open(filename) as file_object:\n",
    "    numbers = json.load(file_object)\n",
    "    \n",
    "print(numbers)"
   ]
  },
  {
   "cell_type": "markdown",
   "id": "4a51e558",
   "metadata": {},
   "source": [
    "**Saving and Reading User-Generated Data**"
   ]
  },
  {
   "cell_type": "code",
   "execution_count": null,
   "id": "76f57073",
   "metadata": {},
   "outputs": [],
   "source": [
    "username = input(\"What is your name? \")\n",
    "filename = 'username.json'\n",
    "with open(filename,'w') as f:\n",
    "    json.dump(username,f)\n",
    "    print(f\"We'll remember you when you come back, {username}!\")"
   ]
  },
  {
   "cell_type": "code",
   "execution_count": null,
   "id": "4d9c60d4",
   "metadata": {},
   "outputs": [],
   "source": [
    "filename = 'username.json'\n",
    "\n",
    "with open(filename) as f_obj:\n",
    "    username = json.load(f_obj)\n",
    "    print(\"Welcome back, \" + username + \"!\")"
   ]
  },
  {
   "cell_type": "markdown",
   "id": "bcb4fe06",
   "metadata": {},
   "source": [
    "A complete example where the user is prompted for input if the data file is not available:"
   ]
  },
  {
   "cell_type": "code",
   "execution_count": null,
   "id": "f8df4cce",
   "metadata": {},
   "outputs": [],
   "source": [
    "def get_stored_username():\n",
    "    \"\"\"Get stored username if available.\"\"\"\n",
    "    filename = 'username.json'\n",
    "    try:\n",
    "        with open(filename) as f_obj:\n",
    "            username = json.load(f_obj)\n",
    "    except FileNotFoundError:\n",
    "        return None\n",
    "    else:\n",
    "        return username\n",
    "\n",
    "def get_new_username():\n",
    "    \"\"\"Prompt for a new username.\"\"\"\n",
    "    username = input(\"What is your name? \")\n",
    "    filename = 'username.json'\n",
    "    with open(filename, 'w') as f_obj:\n",
    "        json.dump(username, f_obj)\n",
    "    return username\n",
    "\n",
    "def greet_user():\n",
    "    \"\"\"Greet the user by name.\"\"\"\n",
    "    username = get_stored_username()\n",
    "    if username:\n",
    "        print(\"Welcome back, \" + username + \"!\")\n",
    "    else:\n",
    "        username = get_new_username()\n",
    "        print(\"We'll remember you when you come back, \" + username + \"!\")\n",
    "\n",
    "greet_user()"
   ]
  },
  {
   "cell_type": "code",
   "execution_count": null,
   "id": "d422e9b7",
   "metadata": {},
   "outputs": [],
   "source": []
  },
  {
   "cell_type": "markdown",
   "id": "20e482ab",
   "metadata": {},
   "source": [
    "-----\n",
    "\n",
    "## Homework Problems"
   ]
  },
  {
   "cell_type": "markdown",
   "id": "a2eeddc0",
   "metadata": {},
   "source": [
    "**10-1. Learning Python:** Open a blank file in your text editor and write a few lines summarizing what you've learned about Python so far. Start each line with the phrase *In Python you can...* . Save the file aa *learning_python.txt* in the same directory as this notebook. Write a program that reads the file and prints what you wrote three times. Print the contents once by reading in the entire file, once by looping over the file object, and once by storing the lines in a list and then working with them outside the `with` block."
   ]
  },
  {
   "cell_type": "code",
   "execution_count": null,
   "id": "36700fb3",
   "metadata": {},
   "outputs": [],
   "source": []
  },
  {
   "cell_type": "markdown",
   "id": "d536ae84",
   "metadata": {},
   "source": [
    "**10-2. Learning C:** You can use the `replace()` method to replace any word in a string with a different word. Here's a quick example showing how to replace 'dog' with 'cat' in a sentence:\n",
    "\n",
    "    message = \"I really like dogs.\"\n",
    "    message.replace('dog','cat')\n",
    "    'I really like cats.'\n",
    "   \n",
    "Read in each line from the file you just created, *learning_python.txt*, and replace the word *Python* with the name of another language, such as *C*. Print each modified line to the screen."
   ]
  },
  {
   "cell_type": "code",
   "execution_count": null,
   "id": "d9f9c34e",
   "metadata": {},
   "outputs": [],
   "source": []
  },
  {
   "cell_type": "markdown",
   "id": "908fbf83",
   "metadata": {},
   "source": [
    "**10-3. Guest:** Write a program that prompts the user for their name. When they respond, write their name to a file called *guest.txt*"
   ]
  },
  {
   "cell_type": "code",
   "execution_count": null,
   "id": "12030a29",
   "metadata": {},
   "outputs": [],
   "source": []
  },
  {
   "cell_type": "markdown",
   "id": "791107b5",
   "metadata": {},
   "source": [
    "**10-4. Guest Book:** Write a `while` loop that prompts users for their name. When they enter their name, print a greeting to the screen and add a line recording their visit in a file called *guest_book.txt*. Make sure each entry appears on a new line in the file."
   ]
  },
  {
   "cell_type": "code",
   "execution_count": null,
   "id": "0bc8678c",
   "metadata": {},
   "outputs": [],
   "source": []
  },
  {
   "cell_type": "markdown",
   "id": "95f75a02",
   "metadata": {},
   "source": [
    "**10-5. Programming Poll:** Write a `while` loop that asks people why they like programming. Each time someone enters a reason, add their reason to a file that stores all the responses."
   ]
  },
  {
   "cell_type": "code",
   "execution_count": null,
   "id": "53b35f56",
   "metadata": {},
   "outputs": [],
   "source": []
  },
  {
   "cell_type": "markdown",
   "id": "68437c77",
   "metadata": {},
   "source": [
    "**10-6. Addition**: One common problem when prompting for numerical input occurs when people provide text instead of numbers. When you try to convert the input to an `int`, you'll get a `ValueError`. Write a program that prompts for two numbers. Add them together and print the result. Cath the `ValueError` if either input value is not a number, and print a friendly error message. Test your program by entering two numbers and then by entering some text instead of a number."
   ]
  },
  {
   "cell_type": "code",
   "execution_count": null,
   "id": "48c488e1",
   "metadata": {},
   "outputs": [],
   "source": []
  },
  {
   "cell_type": "markdown",
   "id": "dd5fe5b7",
   "metadata": {},
   "source": [
    "**10-7. Addition Calculator:** Wrap your code from the exercise above in a `while` loop so the user can continue entering numbers even if they make a mistake and enter etext instead of a number."
   ]
  },
  {
   "cell_type": "code",
   "execution_count": null,
   "id": "9eacb081",
   "metadata": {},
   "outputs": [],
   "source": []
  },
  {
   "cell_type": "markdown",
   "id": "8cad91b0",
   "metadata": {},
   "source": [
    "**10-8. Cats and Dogs:** Make two files, *cats.txt* and *dogs.txt*. Store at least three names of cats in the first file and three names of dogs in the second file. Write a program that tries to read these files and print the contents of the file to the screen. Wrap your code in a `try-except` block to catch the `FileNotFound` error, and print a frendly message if a file is missing. Move one of the files to a different location on your system, and make sure the code in the except block executes properly."
   ]
  },
  {
   "cell_type": "code",
   "execution_count": null,
   "id": "3374ac82",
   "metadata": {},
   "outputs": [],
   "source": []
  },
  {
   "cell_type": "markdown",
   "id": "153d1cf1",
   "metadata": {},
   "source": [
    "**10-9. Silent Cats and Dogs:** Modify the `except` block from the exercise above to fail silently if either file is missing."
   ]
  },
  {
   "cell_type": "code",
   "execution_count": null,
   "id": "76781717",
   "metadata": {},
   "outputs": [],
   "source": []
  },
  {
   "cell_type": "markdown",
   "id": "ee60e438",
   "metadata": {},
   "source": [
    "**10-10. Common Words:** Visit Project Gutenberg (https://gutenberg.org/) and download a text file of a work you like (you can copy the raw text from the browser into a textfile). \n",
    "You can use the `count()` method to find out how many times a word or phrase appears in a string. For example, the following code counts the number of times 'row' appears in a string:\n",
    "\n",
    "    >>> line = \"Row, row, row your boat\"\n",
    "    >>> line.count('row')\n",
    "    2\n",
    "    >>> line.lower().count('row')\n",
    "    3\n",
    "\n",
    "Notice that converting the string to lowercase using `lower()` catches all appearances of the word you're looking for, regardless of how it's formatted.\n",
    "\n",
    "Write a program that reads the file you found at Project Gutenberg and determines how many times the word 'the' appears in the text. This will be an approximation because it will also count words such as 'then' and 'there'. Try counting 'the ' with a space in the string, and see how much lower your count is."
   ]
  },
  {
   "cell_type": "code",
   "execution_count": null,
   "id": "f857fac7",
   "metadata": {},
   "outputs": [],
   "source": []
  },
  {
   "cell_type": "markdown",
   "id": "683c0983",
   "metadata": {},
   "source": [
    "**10-11. Favorite Number:** Write a program that prompts the for the user's favorite number. Use `json.dump()` to store this number in a file. Write a separate program that reads in this value and prints the message, \"I know your favorite number! It's ____.\""
   ]
  },
  {
   "cell_type": "code",
   "execution_count": null,
   "id": "3c3172e6",
   "metadata": {},
   "outputs": [],
   "source": [
    "# prompt for a favorite number"
   ]
  },
  {
   "cell_type": "code",
   "execution_count": null,
   "id": "64a1d450",
   "metadata": {},
   "outputs": [],
   "source": [
    "# display the stored favorite number"
   ]
  },
  {
   "cell_type": "markdown",
   "id": "9e37926c",
   "metadata": {},
   "source": [
    "**10-12. Favorite Number Remembered:** Combine the two programs for the exercise above into a single program. If the number is already stored, report the favorite number to the user. If not, prompt for the users' favorite number and store it in a file. Run the program twice to see that it works."
   ]
  },
  {
   "cell_type": "code",
   "execution_count": null,
   "id": "6876624d",
   "metadata": {},
   "outputs": [],
   "source": []
  },
  {
   "cell_type": "markdown",
   "id": "a92e4490",
   "metadata": {},
   "source": [
    "**10-13. Verify User:** The final listing for *remember_me.py* assumes either that the user has already entered their username or that the program is running for the first time. We should modify it in case the current user is not the person who last used the program. \n",
    "\n",
    "Before printing a welcome back message in `greet_user()`, ask the user if this is the correct username. If it's not, call `get_new_username()` to get the correct username."
   ]
  },
  {
   "cell_type": "code",
   "execution_count": null,
   "id": "6f38c99b",
   "metadata": {},
   "outputs": [],
   "source": []
  }
 ],
 "metadata": {
  "kernelspec": {
   "display_name": "Python 3 (ipykernel)",
   "language": "python",
   "name": "python3"
  },
  "language_info": {
   "codemirror_mode": {
    "name": "ipython",
    "version": 3
   },
   "file_extension": ".py",
   "mimetype": "text/x-python",
   "name": "python",
   "nbconvert_exporter": "python",
   "pygments_lexer": "ipython3",
   "version": "3.7.9"
  }
 },
 "nbformat": 4,
 "nbformat_minor": 5
}
