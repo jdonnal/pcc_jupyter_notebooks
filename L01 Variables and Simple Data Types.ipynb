{
 "cells": [
  {
   "cell_type": "markdown",
   "id": "5365182e",
   "metadata": {},
   "source": [
    "<img src=\"https://www.usna.edu/WRC/_files/WRClogos/WRCE-logo-combined-01-crop.png\" width=\"200px\">\n",
    "\n",
    "# Variables and Simple Data Types (Chapter 2)"
   ]
  },
  {
   "cell_type": "code",
   "execution_count": null,
   "id": "e3055412",
   "metadata": {},
   "outputs": [],
   "source": [
    "# Examples of variables in Python\n",
    "x=4\n",
    "student=\"Alice\"\n",
    "my_favorite_prime_number = 14\n",
    "print(my_favorite_prime_number)\n",
    "\n",
    "\n",
    "# TODO declare three more variables below:"
   ]
  },
  {
   "cell_type": "markdown",
   "id": "1b240342",
   "metadata": {},
   "source": [
    "Rules for naming variables:\n",
    "\n",
    "* Can contain only letters, numbers, and underscores. May not start with a number\n",
    "* No spaces, use underscores instead\n",
    "* Avoid built-in functions and keywords like ``input``, ``print``, ``for``, ``else``, etc\n",
    "* Names should be short but descriptive. Avoid single letter names (easy to forget what they mean).\n"
   ]
  },
  {
   "cell_type": "code",
   "execution_count": null,
   "id": "f86b7639",
   "metadata": {},
   "outputs": [],
   "source": [
    "# TODO create variables to hold a student's first and last names and current grade. Name them appropriately.\n",
    "\n"
   ]
  },
  {
   "cell_type": "markdown",
   "id": "90e0d116",
   "metadata": {},
   "source": [
    "----\n",
    "### Strings"
   ]
  },
  {
   "cell_type": "code",
   "execution_count": null,
   "id": "1fb49d94",
   "metadata": {},
   "outputs": [],
   "source": [
    "# strings are lists of characters enclosed by either \" or ' \n",
    "full_name = \"Alice Aardvark\"\n",
    "favorite_team = 'Antartic Antz'\n",
    "\n",
    "# use \" when you need a ' inside the string\n",
    "favorite_jam = \"Mom's Marmalade\"\n",
    "\n",
    "# several functions can be used to change the capitalization of a string\n",
    "print(favorite_jam.lower())\n",
    "\n",
    "print(favorite_jam.upper())\n",
    "\n",
    "student = 'tiny teddy'\n",
    "print(student.title())\n",
    "\n",
    "# TODO create three more strings and modify them using one of the capitalization functions"
   ]
  },
  {
   "cell_type": "markdown",
   "id": "789c91fd",
   "metadata": {},
   "source": [
    "Strings can be composed from variables. These are called *f-strings* or formatted strings"
   ]
  },
  {
   "cell_type": "code",
   "execution_count": null,
   "id": "ecdfd12e",
   "metadata": {},
   "outputs": [],
   "source": [
    "name = 'Alice'\n",
    "# greeting is an f-string that uses name\n",
    "greeting = f\"Hello, my name is {name}\"\n",
    "\n",
    "friend = 'Bob'\n",
    "message = f\"Hello {friend}, my name is {name}\"\n",
    "\n",
    "# TODO compose a message to Bob telling him your favorite number\n",
    "favorite_number = 10\n"
   ]
  },
  {
   "cell_type": "markdown",
   "id": "74f1265f",
   "metadata": {},
   "source": [
    "**Adding Whitespace** Strings can contain whitespace like tabs and newlines. These non-printing characters are written by using ``\\`` followed by a special character."
   ]
  },
  {
   "cell_type": "code",
   "execution_count": null,
   "id": "b4ce998f",
   "metadata": {},
   "outputs": [],
   "source": [
    "multiline_message = \"This is line 1\\nThis is line 2\" # what if you add a space around the \\n?\n",
    "print(multiline_message)"
   ]
  },
  {
   "cell_type": "code",
   "execution_count": null,
   "id": "0b49d564",
   "metadata": {},
   "outputs": [],
   "source": [
    "indented_message = \"Alice\\tAardvark\"\n",
    "print(indented_message)\n",
    "\n",
    "print(\"\\n\\n\") # two empty lines\n",
    "\n",
    "student_roster = \"Alice\\tAardvark\\nBill\\tBobcat\"\n",
    "print(student_roster)"
   ]
  },
  {
   "cell_type": "markdown",
   "id": "99083bc0",
   "metadata": {},
   "source": [
    "**Stripping Whitespace** Whitespace can be removed from the beginning and/or end of a string using ``strip`` functions"
   ]
  },
  {
   "cell_type": "code",
   "execution_count": null,
   "id": "682116c5",
   "metadata": {},
   "outputs": [],
   "source": [
    "favorite_class = '   ew200   '\n",
    "print(f\"I love {favorite_class}!\")\n",
    "\n",
    "print(f\"I love {favorite_class.lstrip()}!\") # remove leading whitespace\n",
    "print(f\"I love {favorite_class.rstrip()}!\") # remove trailing whitespace\n",
    "print(f\"I love {favorite_class.strip()}!\")  # remove both leading and trailing whitespace\n",
    "\n",
    "# create a string with leading and trailing white space including \\n and \\t characters\n",
    "# then print it using each of the strip functions\n"
   ]
  },
  {
   "cell_type": "markdown",
   "id": "2e774d75",
   "metadata": {},
   "source": [
    "---\n",
    "### Numbers"
   ]
  },
  {
   "cell_type": "code",
   "execution_count": null,
   "id": "6d01f2e0",
   "metadata": {},
   "outputs": [],
   "source": [
    "# Python supports basic math operations\n",
    "print(2+2)\n",
    "print(3-2)\n",
    "print(8*5)\n",
    "print(3/2)"
   ]
  },
  {
   "cell_type": "code",
   "execution_count": null,
   "id": "74f1e051",
   "metadata": {},
   "outputs": [],
   "source": [
    "# Exponents use **\n",
    "print(3**2)"
   ]
  },
  {
   "cell_type": "markdown",
   "id": "c78ae13a",
   "metadata": {},
   "source": [
    "**WARNING!** Decimals are approximate- they may not give the exact answer, but this is not usually a problem"
   ]
  },
  {
   "cell_type": "code",
   "execution_count": null,
   "id": "ab31c10c",
   "metadata": {},
   "outputs": [],
   "source": [
    "print(0.2+0.1)"
   ]
  },
  {
   "cell_type": "markdown",
   "id": "a1724369",
   "metadata": {},
   "source": [
    "#### Math Functions"
   ]
  },
  {
   "cell_type": "code",
   "execution_count": null,
   "id": "6feb24d4",
   "metadata": {},
   "outputs": [],
   "source": [
    "from math import sin, cos, pi, floor # add functions from the math package\n",
    "\n",
    "# math has constants like pi\n",
    "print(f\"pi={pi}\")\n",
    "\n",
    "# compute trig functions (should be 0)\n",
    "print(f\"\\nsin(pi)={sin(pi)}\")\n",
    "print(f\"cos(pi)={cos(pi)}\")\n",
    "\n",
    "\n",
    "# other useful functions\n",
    "print(f\"\\nfloor(2.16)={floor(2.16)}\")\n",
    "\n",
    "# TODO import ceil, what do you think it does?\n",
    "\n",
    "# TODO what is the arctangent of 1.0 in degrees?\n"
   ]
  },
  {
   "cell_type": "markdown",
   "id": "5c7454e2",
   "metadata": {},
   "source": [
    "------\n",
    "### Helpful Hints"
   ]
  },
  {
   "cell_type": "code",
   "execution_count": null,
   "id": "ac340bd8",
   "metadata": {},
   "outputs": [],
   "source": [
    "# use _ to group digits in large numbers\n",
    "one_billion = 1_000_000_000\n",
    "print(one_billion)\n",
    "\n",
    "# multiple assignment can be used to initialize several variables at once\n",
    "a, b, c = 1, 2, 3\n",
    "print(c)\n",
    "\n",
    "# if a variable shouldn't change its value during your program use all capital letters\n",
    "GRAVITATIONAL_CONSTANT = 9.81\n",
    "print(GRAVITATIONAL_CONSTANT)\n",
    "\n",
    "# Use comments in your code to document your work, include citations, and make it easier to read\n",
    "print(\"Don't forget to use comments in your code!\")"
   ]
  },
  {
   "cell_type": "markdown",
   "id": "0d6f4116",
   "metadata": {},
   "source": [
    "-----\n",
    "\n",
    "## Homework Problems"
   ]
  },
  {
   "cell_type": "markdown",
   "id": "b7dadbdf",
   "metadata": {},
   "source": [
    "**2-1. Simple Message:** Assign a message to a variable and then print that message"
   ]
  },
  {
   "cell_type": "code",
   "execution_count": null,
   "id": "b3caf7fe",
   "metadata": {},
   "outputs": [],
   "source": []
  },
  {
   "cell_type": "markdown",
   "id": "e12891f0",
   "metadata": {},
   "source": [
    "**2-2 Simple Messages:** Assign a message to a variable and then print that message. Then change the value of the variable to a new message, and print the new message"
   ]
  },
  {
   "cell_type": "code",
   "execution_count": null,
   "id": "a8b22ab1",
   "metadata": {},
   "outputs": [],
   "source": []
  },
  {
   "cell_type": "markdown",
   "id": "9fe4fa59",
   "metadata": {},
   "source": [
    "**2-3. Personal Message:** Use a variable to represent a person's name, and print a message to that person. Your message should be simple, such as, \"Hello Eric, would you like to learn some Python today?\""
   ]
  },
  {
   "cell_type": "code",
   "execution_count": null,
   "id": "629ded4c",
   "metadata": {},
   "outputs": [],
   "source": []
  },
  {
   "cell_type": "markdown",
   "id": "4903316c",
   "metadata": {},
   "source": [
    "**2-4. Name Cases:** Use a variable to represent a person's name and then print that peron's name in lowercase, uppercase, and title case."
   ]
  },
  {
   "cell_type": "code",
   "execution_count": null,
   "id": "ef97cfdd",
   "metadata": {},
   "outputs": [],
   "source": []
  },
  {
   "cell_type": "markdown",
   "id": "cc7e276f",
   "metadata": {},
   "source": [
    "**2-5. Famous Quote:** Find a quote from a famous person you admire. Print the quote and the name of its author. Your output should look somethink like the following, including quotation marks:\n",
    "\n",
    "        Albert Einstein once said, \"A person who never made a mistake never tried anything new\""
   ]
  },
  {
   "cell_type": "code",
   "execution_count": null,
   "id": "a835b88a",
   "metadata": {},
   "outputs": [],
   "source": []
  },
  {
   "cell_type": "markdown",
   "id": "2ad2400c",
   "metadata": {},
   "source": [
    "**2-6. Famous Quote 2:** Repeat Exercise 2-5, but this time, represent the famous person's name using a variable called ``famous_person``. Then compose your message and represent it with a new variable called ``message``. Print your message"
   ]
  },
  {
   "cell_type": "code",
   "execution_count": null,
   "id": "0abcef1d",
   "metadata": {},
   "outputs": [],
   "source": []
  },
  {
   "cell_type": "markdown",
   "id": "95596c31",
   "metadata": {},
   "source": [
    "**2-7. Stripping Names:** Use a variable to represent a person's name, and include some whitespace characters at the beginning and end of the name. Make sure you use each character combination, \"\\t\" and \"\\n\", at least once. \n",
    "Print the name using each of the three stripping functions, ``lstrip()``, ``rstrip()``, and ``strip()``."
   ]
  },
  {
   "cell_type": "code",
   "execution_count": null,
   "id": "4ff0c776",
   "metadata": {},
   "outputs": [],
   "source": []
  },
  {
   "cell_type": "markdown",
   "id": "2604ec0b",
   "metadata": {},
   "source": [
    "**2-8. Number Eight:** Write addition, subtraction, multiplication, and division operations that each result in the number 8. Be sure to enclose your operations in ``print()`` calls to see the results. You should create four lines that look like this:\n",
    "\n",
    "        print(5+3)\n",
    "Your output should simply be four lines with the number 8 appearing once on each line."
   ]
  },
  {
   "cell_type": "code",
   "execution_count": null,
   "id": "84c93573",
   "metadata": {},
   "outputs": [],
   "source": []
  },
  {
   "cell_type": "markdown",
   "id": "15b077f9",
   "metadata": {},
   "source": [
    "**2-9. Favorite Number:** Use a variable to represent your favorite number. Then, using that variable, create a message that reveals your favorite number. Print that message."
   ]
  },
  {
   "cell_type": "code",
   "execution_count": null,
   "id": "f08a4d2f",
   "metadata": {},
   "outputs": [],
   "source": []
  },
  {
   "cell_type": "markdown",
   "id": "4cb85d46",
   "metadata": {},
   "source": [
    "**2-10. Adding Comments:** Choose two of the previous problems and at at least one comment to each.\n",
    "\n",
    "**2-11. Zen of Python:** Enter ``import this`` and skim through the additional principles."
   ]
  },
  {
   "cell_type": "code",
   "execution_count": null,
   "id": "bd3441fd",
   "metadata": {},
   "outputs": [],
   "source": []
  }
 ],
 "metadata": {
  "kernelspec": {
   "display_name": "Python 3 (ipykernel)",
   "language": "python",
   "name": "python3"
  },
  "language_info": {
   "codemirror_mode": {
    "name": "ipython",
    "version": 3
   },
   "file_extension": ".py",
   "mimetype": "text/x-python",
   "name": "python",
   "nbconvert_exporter": "python",
   "pygments_lexer": "ipython3",
   "version": "3.9.12"
  }
 },
 "nbformat": 4,
 "nbformat_minor": 5
}
